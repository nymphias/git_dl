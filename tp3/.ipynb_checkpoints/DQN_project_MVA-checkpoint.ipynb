{
 "cells": [
  {
   "cell_type": "markdown",
   "metadata": {},
   "source": [
    "**You may need to install [OpenCV](https://pypi.python.org/pypi/opencv-python) and [scikit-video](http://www.scikit-video.org/stable/).**"
   ]
  },
  {
   "cell_type": "code",
   "execution_count": 70,
   "metadata": {},
   "outputs": [
    {
     "name": "stdout",
     "output_type": "stream",
     "text": [
      "The autoreload extension is already loaded. To reload it, use:\n",
      "  %reload_ext autoreload\n"
     ]
    }
   ],
   "source": [
    "%load_ext autoreload\n",
    "%autoreload 2\n",
    "# %matplotlib auto\n",
    "\n",
    "import keras\n",
    "import numpy as np\n",
    "import io\n",
    "import base64\n",
    "import os\n",
    "import tqdm\n",
    "import pandas as pd\n",
    "from IPython.display import HTML\n",
    "import skvideo.io\n",
    "import matplotlib.pyplot as plt\n",
    "import cv2\n",
    "import json\n",
    "from tabulate import tabulate\n",
    "import random\n",
    "\n",
    "from keras.models import Sequential,model_from_json\n",
    "from keras.layers.core import Dense\n",
    "from keras.optimizers import sgd\n",
    "from keras.layers import Conv2D, MaxPooling2D, Activation, AveragePooling2D,Reshape,BatchNormalization, Flatten, Dropout"
   ]
  },
  {
   "cell_type": "markdown",
   "metadata": {},
   "source": [
    "# MiniProject #3: Deep Reinforcement Learning"
   ]
  },
  {
   "cell_type": "markdown",
   "metadata": {},
   "source": [
    "__Notations__: $E_p$ is the expectation under probability $p$. Please justify each of your answer and widely comment your code."
   ]
  },
  {
   "cell_type": "code",
   "execution_count": 54,
   "metadata": {},
   "outputs": [],
   "source": [
    "def plot_standard(data_plots, labels, ylines, title, ylabel, xlabel, ax=None, x_plots=None):\n",
    "    if ax == None:\n",
    "        f, ax = plt.subplots(1, figsize=(15, 8))\n",
    "\n",
    "    for i, data_plot in enumerate(data_plots):\n",
    "        if x_plots is None:\n",
    "            x_plot=np.arange(1, len(data_plot)+1,1)\n",
    "        else:\n",
    "            x_plot = x_plots[i]\n",
    "        ax.plot(x_plot, data_plot, label=labels[i])\n",
    "\n",
    "    ax.legend()\n",
    "    if ylines is not None:\n",
    "        for yline in ylines:\n",
    "            ax.axhline(y=yline, color='r', linestyle='--')\n",
    "\n",
    "    ax.set_title(title)\n",
    "    ax.set_ylabel(ylabel)\n",
    "    ax.set_xlabel(xlabel)"
   ]
  },
  {
   "cell_type": "markdown",
   "metadata": {},
   "source": [
    "# Context"
   ]
  },
  {
   "cell_type": "markdown",
   "metadata": {},
   "source": [
    "In a reinforcement learning algorithm, we modelize each step $t$ as an action $a_t$ obtained from a state $s_t$, i.e. $\\{(a_{t},s_{t})_{t\\leq T}\\}$ having the Markov property. We consider a discount factor $\\gamma \\in [0,1]$ that ensures convergence. The goal is to find among all the policies $\\pi$, one that maximizes the expected reward:\n",
    "\n",
    "\\begin{equation*}\n",
    "R(\\pi)=\\sum_{t\\leq T}E_{p^{\\pi}}[\\gamma^t r(s_{t},a_{t})] \\> ,\n",
    "\\end{equation*}\n",
    "\n",
    "where: \n",
    "\\begin{equation*}p^{\\pi}(a_{0},a_{1},s_{1},...,a_{T},s_{T})=p(a_{0})\\prod_{t=1}^{T}\\pi(a_{t}|s_{t})p(s_{t+1}|s_{t},a_{t}) \\> .\n",
    "\\end{equation*}\n",
    "\n",
    "We note the $Q$-function:\n",
    "\n",
    "\\begin{equation*}Q^\\pi(s,a)=E_{p^{\\pi}}[\\sum_{t\\leq T}\\gamma^{t}r(s_{t},a_{t})|s_{0}=s,a_{0}=a] \\> .\n",
    "\\end{equation*}\n",
    "\n",
    "Thus, the optimal Q function is:\n",
    "\\begin{equation*}\n",
    "Q^*(s,a)=\\max_{\\pi}Q^\\pi(s,a) \\> .\n",
    "\\end{equation*}\n",
    "\n",
    "In this project, we will apply the deep reinforcement learning techniques to a simple game: an agent will have to learn from scratch a policy that will permit it maximizing a reward."
   ]
  },
  {
   "cell_type": "markdown",
   "metadata": {},
   "source": [
    "## The environment, the agent and the game"
   ]
  },
  {
   "cell_type": "markdown",
   "metadata": {
    "heading_collapsed": true
   },
   "source": [
    "### The environment"
   ]
  },
  {
   "cell_type": "markdown",
   "metadata": {
    "hidden": true
   },
   "source": [
    "```Environment``` is an abstract class that represents the states, rewards, and actions to obtain the new state."
   ]
  },
  {
   "cell_type": "code",
   "execution_count": 2,
   "metadata": {
    "hidden": true
   },
   "outputs": [],
   "source": [
    "class Environment(object):\n",
    "    def __init__(self):\n",
    "        pass\n",
    "\n",
    "    def act(self, act):\n",
    "        \"\"\"\n",
    "        One can act on the environment and obtain its reaction:\n",
    "        - the new state\n",
    "        - the reward of the new state\n",
    "        - should we continue the game?\n",
    "\n",
    "        :return: state, reward, game_over\n",
    "        \"\"\"\n",
    "        pass\n",
    "\n",
    "\n",
    "    def reset(self):\n",
    "        \"\"\"\n",
    "        Reinitialize the environment to a random state and returns\n",
    "        the original state\n",
    "\n",
    "        :return: state\n",
    "        \"\"\"\n",
    "        pass\n",
    "    \n",
    "    def draw(self):\n",
    "        \"\"\"\n",
    "        Visualize in the console or graphically the current state\n",
    "        \"\"\"\n",
    "        pass"
   ]
  },
  {
   "cell_type": "markdown",
   "metadata": {
    "hidden": true
   },
   "source": [
    "The method ```act``` allows to act on the environment at a given state $s_t$ (stored internally), via action $a_t$. The method will return the new state $s_{t+1}$, the reward $r(s_{t},a_{t})$ and determines if $t\\leq T$ (*game_over*).\n",
    "\n",
    "The method ```reset``` simply reinitializes the environment to a random state $s_0$.\n",
    "\n",
    "The method ```draw``` displays the current state $s_t$ (this is useful to check the behavior of the Agent).\n",
    "\n",
    "We modelize $s_t$ as a tensor, while $a_t$ is an integer."
   ]
  },
  {
   "cell_type": "markdown",
   "metadata": {
    "heading_collapsed": true
   },
   "source": [
    "### The Agent"
   ]
  },
  {
   "cell_type": "markdown",
   "metadata": {
    "hidden": true
   },
   "source": [
    "The goal of the ```Agent``` is to interact with the ```Environment``` by proposing actions $a_t$ obtained from a given state $s_t$ to attempt to maximize its __reward__ $r(s_t,a_t)$. We propose the following abstract class:"
   ]
  },
  {
   "cell_type": "code",
   "execution_count": 3,
   "metadata": {
    "hidden": true
   },
   "outputs": [],
   "source": [
    "class Agent(object):\n",
    "    def __init__(self, epsilon=0.1, n_action=4):\n",
    "        self.epsilon = epsilon\n",
    "        self.n_action = n_action\n",
    "    \n",
    "    def set_epsilon(self,e):\n",
    "        self.epsilon = e\n",
    "\n",
    "    def act(self,s,train=True):\n",
    "        \"\"\" This function should return the next action to do:\n",
    "        an integer between 0 and 4 (not included) with a random exploration of epsilon\"\"\"\n",
    "        if train:\n",
    "            if np.random.rand() <= self.epsilon:\n",
    "                a = np.random.randint(0, self.n_action, size=1)[0]\n",
    "            else:\n",
    "                a = self.learned_act(s)\n",
    "        else: # in some cases, this can improve the performance.. remove it if poor performances\n",
    "            a = self.learned_act(s)\n",
    "\n",
    "        return a\n",
    "\n",
    "    def learned_act(self,s):\n",
    "        \"\"\" Act via the policy of the agent, from a given state s\n",
    "        it proposes an action a\"\"\"\n",
    "        pass\n",
    "\n",
    "    def reinforce(self, s, n_s, a, r, game_over_):\n",
    "        \"\"\" This function is the core of the learning algorithm. \n",
    "        It takes as an input the current state s_, the next state n_s_\n",
    "        the action a_ used to move from s_ to n_s_ and the reward r_.\n",
    "        \n",
    "        Its goal is to learn a policy.\n",
    "        \"\"\"\n",
    "        pass\n",
    "\n",
    "    def save(self):\n",
    "        \"\"\" This function returns basic stats if applicable: the\n",
    "        loss and/or the model\"\"\"\n",
    "        pass\n",
    "\n",
    "    def load(self):\n",
    "        \"\"\" This function allows to restore a model\"\"\"\n",
    "        pass"
   ]
  },
  {
   "cell_type": "markdown",
   "metadata": {
    "hidden": true
   },
   "source": [
    "***\n",
    "__Question 1__:\n",
    "Explain the function act. Why is ```epsilon``` essential?"
   ]
  },
  {
   "cell_type": "markdown",
   "metadata": {
    "hidden": true
   },
   "source": [
    "__[answer]__\n",
    "The function act takes a state $s$ of the environment and outputs the action of the agent $a$. If the agent only follows a greedy deterministic policy where $a = \\pi(s) = argmax_{a\\in A} Q(s,a)$, he's in a exploitation scheme. However, in such context, it doens't allow propre learning of the Q-function and some states may not even be visited such that the algo doesn't converge. Hence, we need to introduce some stochasticity in the policy where we draw a random action with probability $\\epsilon$, this allows the agent to explore the state-action space but can lead to poor rewards.\n",
    "This is known as the __exploration-exploitation dilemma__."
   ]
  },
  {
   "cell_type": "markdown",
   "metadata": {
    "hidden": true
   },
   "source": [
    "***\n",
    "### The Game"
   ]
  },
  {
   "cell_type": "markdown",
   "metadata": {
    "hidden": true
   },
   "source": [
    "The ```Agent``` and the ```Environment``` work in an interlaced way as in the following (take some time to understand this code as it is the core of the project)\n",
    "\n",
    "```python\n",
    "\n",
    "epoch = 300\n",
    "env = Environment()\n",
    "agent = Agent()\n",
    "\n",
    "\n",
    "# Number of won games\n",
    "score = 0\n",
    "loss = 0\n",
    "\n",
    "\n",
    "for e in range(epoch):\n",
    "    # At each epoch, we restart to a fresh game and get the initial state\n",
    "    state = env.reset()\n",
    "    # This assumes that the games will end\n",
    "    game_over = False\n",
    "\n",
    "    win = 0\n",
    "    lose = 0\n",
    "    \n",
    "    while not game_over:\n",
    "        # The agent performs an action\n",
    "        action = agent.act(state)\n",
    "\n",
    "        # Apply an action to the environment, get the next state, the reward\n",
    "        # and if the games end\n",
    "        prev_state = state\n",
    "        state, reward, game_over = env.act(action)\n",
    "\n",
    "        # Update the counters\n",
    "        if reward > 0:\n",
    "            win = win + reward\n",
    "        if reward < 0:\n",
    "            lose = lose -reward\n",
    "\n",
    "        # Apply the reinforcement strategy\n",
    "        loss = agent.reinforce(prev_state, state,  action, reward, game_over)\n",
    "\n",
    "    # Save as a mp4\n",
    "    if e % 10 == 0:\n",
    "        env.draw(e)\n",
    "\n",
    "    # Update stats\n",
    "    score += win-lose\n",
    "\n",
    "    print(\"Epoch {:03d}/{:03d} | Loss {:.4f} | Win/lose count {}/{} ({})\"\n",
    "          .format(e, epoch, loss, win, lose, win-lose))\n",
    "    agent.save()\n",
    "```"
   ]
  },
  {
   "cell_type": "markdown",
   "metadata": {},
   "source": [
    "# The game, *eat cheese*"
   ]
  },
  {
   "cell_type": "markdown",
   "metadata": {
    "heading_collapsed": true
   },
   "source": [
    "### The environment"
   ]
  },
  {
   "cell_type": "markdown",
   "metadata": {
    "hidden": true
   },
   "source": [
    "A rat runs on an island and tries to eat as much as possible. The island is subdivided into $N\\times N$ cells, in which there are cheese (+0.5) and poisonous cells (-1). The rat has a visibility of 2 cells (thus it can see $5^2$ cells). The rat is given a time $T$ to accumulate as much food as possible. It can perform 4 actions: going up, down, left, right. \n",
    "\n",
    "The goal is to code an agent to solve this task that will learn by trial and error. We propose the following environment:"
   ]
  },
  {
   "cell_type": "code",
   "execution_count": 4,
   "metadata": {
    "hidden": true
   },
   "outputs": [],
   "source": [
    "class Environment(object):\n",
    "    def __init__(self, grid_size=10, max_time=500, temperature=0.1):\n",
    "        grid_size = grid_size+4\n",
    "        self.grid_size = grid_size\n",
    "        self.max_time = max_time\n",
    "        self.temperature = temperature\n",
    "\n",
    "        #board on which one plays\n",
    "        self.board = np.zeros((grid_size,grid_size))\n",
    "        self.position = np.zeros((grid_size,grid_size))\n",
    "\n",
    "        # coordinate of the cat\n",
    "        self.x = 0\n",
    "        self.y = 1\n",
    "\n",
    "        # self time\n",
    "        self.t = 0\n",
    "\n",
    "        self.scale=16\n",
    "\n",
    "        self.to_draw = np.zeros((max_time+2, grid_size*self.scale, grid_size*self.scale, 3))\n",
    "\n",
    "\n",
    "    def draw(self,e):\n",
    "        skvideo.io.vwrite(os.path.join('videos',f'{str(e)}.mp4'), self.to_draw)\n",
    "\n",
    "    def get_frame(self,t):\n",
    "        b = np.zeros((self.grid_size,self.grid_size,3))+128\n",
    "        \n",
    "        # draw bonus and malus \n",
    "        b[self.board>0,0] = 256\n",
    "        b[self.board < 0, 2] = 256\n",
    "        \n",
    "        # draw rat position\n",
    "        b[self.x,self.y,:]=256\n",
    "        \n",
    "        # draw borders\n",
    "        b[-2:,:,:]=0\n",
    "        b[:,-2:,:]=0\n",
    "        b[:2,:,:]=0\n",
    "        b[:,:2,:]=0\n",
    "        \n",
    "        b =  cv2.resize(b, None, fx=self.scale, fy=self.scale, interpolation=cv2.INTER_NEAREST)\n",
    "\n",
    "        # frame at instant t\n",
    "        self.to_draw[t,:,:,:]=b\n",
    "\n",
    "\n",
    "    def act(self, action):\n",
    "        \"\"\"This function returns the new state, reward and decides if the\n",
    "        game ends.\"\"\"\n",
    "\n",
    "        self.get_frame(int(self.t))\n",
    "\n",
    "        self.position = np.zeros((self.grid_size, self.grid_size))\n",
    "\n",
    "        self.position[0:2,:]= -1\n",
    "        self.position[:,0:2] = -1\n",
    "        self.position[-2:, :] = -1\n",
    "        self.position[-2:, :] = -1\n",
    "\n",
    "        self.position[self.x, self.y] = 1\n",
    "        if action == 0:\n",
    "            if self.x == self.grid_size-3:\n",
    "                self.x = self.x-1\n",
    "            else:\n",
    "                self.x = self.x + 1\n",
    "        elif action == 1:\n",
    "            if self.x == 2:\n",
    "                self.x = self.x+1\n",
    "            else:\n",
    "                self.x = self.x-1\n",
    "        elif action == 2:\n",
    "            if self.y == self.grid_size - 3:\n",
    "                self.y = self.y - 1\n",
    "            else:\n",
    "                self.y = self.y + 1\n",
    "        elif action == 3:\n",
    "            if self.y == 2:\n",
    "                self.y = self.y + 1\n",
    "            else:\n",
    "                self.y = self.y - 1\n",
    "        else:\n",
    "            RuntimeError('Error: action not recognized')\n",
    "\n",
    "        self.t = self.t + 1\n",
    "        reward = self.board[self.x, self.y]\n",
    "        self.board[self.x, self.y] = 0\n",
    "        game_over = self.t > self.max_time\n",
    "        state = np.concatenate((self.board.reshape(self.grid_size, self.grid_size,1),\n",
    "                        self.position.reshape(self.grid_size, self.grid_size,1)),axis=2)\n",
    "        # state: what is observed by the cat - 2 case vision of both the board bonus/malus and the borders \n",
    "        state = state[self.x-2:self.x+3,self.y-2:self.y+3,:]\n",
    "\n",
    "        return state, reward, game_over\n",
    "\n",
    "    def reset(self):\n",
    "        \"\"\"This function resets the game and returns the initial state\"\"\"\n",
    "\n",
    "        # random first position\n",
    "        self.x = np.random.randint(3, self.grid_size-3, size=1)[0]\n",
    "        self.y = np.random.randint(3, self.grid_size-3, size=1)[0]\n",
    "\n",
    "        # temperature gives the probability of generating bonus and malus on the board\n",
    "        bonus = 0.5*np.random.binomial(1,self.temperature,size=self.grid_size**2)\n",
    "        bonus = bonus.reshape(self.grid_size,self.grid_size)\n",
    "\n",
    "        malus = -1.0*np.random.binomial(1,self.temperature,size=self.grid_size**2)\n",
    "        malus = malus.reshape(self.grid_size, self.grid_size)\n",
    "\n",
    "        self.to_draw = np.zeros((self.max_time+2, self.grid_size*self.scale, self.grid_size*self.scale, 3))\n",
    "\n",
    "        # When both malus and bonus, bonus remains. For high temperature, the board is filled more and more with bonuses\n",
    "        malus[bonus>0]=0\n",
    "\n",
    "        self.board = bonus + malus\n",
    "\n",
    "        self.position = np.zeros((self.grid_size, self.grid_size))\n",
    "        self.position[0:2,:]= -1\n",
    "        self.position[:,0:2] = -1\n",
    "        self.position[-2:, :] = -1\n",
    "        self.position[-2:, :] = -1\n",
    "        \n",
    "        # initial position doesn't have malus or bonus\n",
    "        self.board[self.x,self.y] = 0\n",
    "        self.t = 0\n",
    "\n",
    "        state = np.concatenate((\n",
    "                               self.board.reshape(self.grid_size, self.grid_size,1),\n",
    "                        self.position.reshape(self.grid_size, self.grid_size,1)),axis=2)\n",
    "\n",
    "        # state: what is observed by the rat\n",
    "        state = state[self.x - 2:self.x + 3, self.y - 2:self.y + 3, :]\n",
    "        return state"
   ]
  },
  {
   "cell_type": "markdown",
   "metadata": {
    "hidden": true
   },
   "source": [
    "The following elements are important because they correspond to the hyper parameters for this project:"
   ]
  },
  {
   "cell_type": "code",
   "execution_count": 5,
   "metadata": {
    "hidden": true
   },
   "outputs": [],
   "source": [
    "# parameters\n",
    "size = 13\n",
    "T=200\n",
    "temperature=0.3\n",
    "epochs_train=10 # set small when debugging\n",
    "epochs_test=31 # set small when debugging\n",
    "\n",
    "# display videos\n",
    "def display_videos(name):\n",
    "    video = io.open(name, 'r+b').read()\n",
    "    encoded = base64.b64encode(video)\n",
    "    return '''<video alt=\"test\" controls>\n",
    "                <source src=\"data:video/mp4;base64,{0}\" type=\"video/mp4\" />\n",
    "             </video>'''.format(encoded.decode('ascii'))"
   ]
  },
  {
   "cell_type": "markdown",
   "metadata": {
    "hidden": true
   },
   "source": [
    "__Question 2__ Explain the use of the arrays ```position``` and ```board```."
   ]
  },
  {
   "cell_type": "markdown",
   "metadata": {
    "hidden": true
   },
   "source": [
    "The array ```board``` is stored internally by the environment and is a map ($NxN$ + borders) that registers the score (even for the cell on the borders) made out of a cheese ($+0.5$) or a poison ($-1$). The ```position``` array ($NxN$ + borders) stores the current position of the rat and highlights the borders.\n",
    "They are both used to construct the ```state``` observed by the rat by keeping only cells of ```position``` and ```board``` at most 2-cell visibility around its position. This way, the rat should know the reward around him and if the borders around it."
   ]
  },
  {
   "cell_type": "markdown",
   "metadata": {
    "heading_collapsed": true
   },
   "source": [
    "### Random Agent"
   ]
  },
  {
   "cell_type": "markdown",
   "metadata": {
    "hidden": true
   },
   "source": [
    "***\n",
    "__Question 3__ Implement a random Agent (only ```learned_act``` needs to be implemented):"
   ]
  },
  {
   "cell_type": "code",
   "execution_count": 6,
   "metadata": {
    "hidden": true
   },
   "outputs": [],
   "source": [
    "class RandomAgent(Agent):\n",
    "    def __init__(self):\n",
    "        super(RandomAgent, self).__init__()\n",
    "        pass\n",
    "\n",
    "    def learned_act(self, s):\n",
    "        a = np.random.randint(0, self.n_action, size=1)[0]\n",
    "        return a"
   ]
  },
  {
   "cell_type": "markdown",
   "metadata": {
    "hidden": true
   },
   "source": [
    "***\n",
    "***\n",
    "__Question 4__ Visualize the game moves. You need to fill in the following function for the evaluation:"
   ]
  },
  {
   "cell_type": "code",
   "execution_count": 37,
   "metadata": {
    "hidden": true
   },
   "outputs": [],
   "source": [
    "def test(agent,env,epochs,prefix='', verbose=False):\n",
    "    # Number of won games\n",
    "    score = 0\n",
    "    board_potential = 0\n",
    "        \n",
    "    for e in range(epochs):\n",
    "        game_over = False\n",
    "        win, lose = 0,0\n",
    "        state = env.reset()\n",
    "        board_potential += np.sum(env.board[1:-1,1:-1])\n",
    "        while not game_over:\n",
    "            action = agent.act(state)\n",
    "            prev_state = state\n",
    "            state, reward, game_over = env.act(action)\n",
    "            \n",
    "            if reward > 0:\n",
    "                win = win+reward\n",
    "            if reward < 0:\n",
    "                lose = lose-reward\n",
    "            \n",
    "#             loss = agent.reinforce(prev_state, state, action, reward, game_over)\n",
    "        \n",
    "        # Save as a mp4\n",
    "        if e==(epochs)-1:\n",
    "            env.draw(prefix+str(e))\n",
    "\n",
    "        # Update stats\n",
    "        score = score + win-lose\n",
    "        if verbose:\n",
    "            print(\"Win/lose count {}/{}. Average score ({})\"\n",
    "                  .format(win, lose, np.round(score/(1+e),2)))\n",
    "    board_potential = board_potential / epochs\n",
    "    score = score/epochs\n",
    "    if verbose:\n",
    "        print('Final score: '+str(score))\n",
    "    return score, board_potential"
   ]
  },
  {
   "cell_type": "code",
   "execution_count": 14,
   "metadata": {
    "hidden": true
   },
   "outputs": [
    {
     "name": "stdout",
     "output_type": "stream",
     "text": [
      "Win/lose count 7.5/13.0. Average score (-5.5)\n",
      "Win/lose count 7.0/13.0. Average score (-5.75)\n",
      "Win/lose count 13.5/14.0. Average score (-4.0)\n",
      "Win/lose count 12.0/15.0. Average score (-3.75)\n",
      "Win/lose count 13.0/18.0. Average score (-4.0)\n",
      "Win/lose count 8.5/10.0. Average score (-3.58)\n",
      "Win/lose count 7.5/11.0. Average score (-3.57)\n",
      "Win/lose count 5.0/5.0. Average score (-3.12)\n",
      "Win/lose count 9.5/17.0. Average score (-3.61)\n",
      "Win/lose count 14.0/10.0. Average score (-2.85)\n",
      "Win/lose count 11.0/14.0. Average score (-2.86)\n",
      "Win/lose count 9.0/12.0. Average score (-2.88)\n",
      "Win/lose count 6.5/15.0. Average score (-3.31)\n",
      "Win/lose count 8.0/17.0. Average score (-3.71)\n",
      "Win/lose count 9.5/20.0. Average score (-4.17)\n",
      "Win/lose count 9.0/10.0. Average score (-3.97)\n",
      "Win/lose count 12.0/10.0. Average score (-3.62)\n",
      "Win/lose count 12.5/10.0. Average score (-3.28)\n",
      "Win/lose count 9.0/12.0. Average score (-3.26)\n",
      "Win/lose count 7.5/5.0. Average score (-2.98)\n",
      "Win/lose count 5.5/15.0. Average score (-3.29)\n",
      "Win/lose count 10.0/12.0. Average score (-3.23)\n",
      "Win/lose count 5.0/16.0. Average score (-3.57)\n",
      "Win/lose count 10.0/12.0. Average score (-3.5)\n",
      "Win/lose count 8.5/22.0. Average score (-3.9)\n",
      "Win/lose count 13.5/12.0. Average score (-3.69)\n",
      "Win/lose count 6.5/13.0. Average score (-3.8)\n",
      "Win/lose count 6.0/22.0. Average score (-4.23)\n",
      "Win/lose count 10.5/21.0. Average score (-4.45)\n",
      "Win/lose count 14.5/12.0. Average score (-4.22)\n",
      "Win/lose count 8.0/16.0. Average score (-4.34)\n",
      "Final score: -4.338709677419355\n"
     ]
    },
    {
     "data": {
      "text/html": [
       "<video alt=\"test\" controls>\n",
       "                <source src=\"data:video/mp4;base64,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\" type=\"video/mp4\" />\n",
       "             </video>"
      ],
      "text/plain": [
       "<IPython.core.display.HTML object>"
      ]
     },
     "execution_count": 14,
     "metadata": {},
     "output_type": "execute_result"
    }
   ],
   "source": [
    "# Initialize the game\n",
    "env = Environment(grid_size=size, max_time=T,temperature=temperature)\n",
    "\n",
    "# Initialize the agent!\n",
    "agent = RandomAgent()\n",
    "\n",
    "test(agent,env,epochs_test,prefix='random')\n",
    "HTML(display_videos(f'videos/random{epochs_test-1}.mp4'))"
   ]
  },
  {
   "cell_type": "markdown",
   "metadata": {
    "heading_collapsed": true
   },
   "source": [
    "### DQN"
   ]
  },
  {
   "cell_type": "markdown",
   "metadata": {
    "hidden": true
   },
   "source": [
    "Let us assume here that $T=\\infty$.\n",
    "\n",
    "***\n",
    "__Question 5__ Let $\\pi$ be a policy, show that:\n",
    "\n",
    "\\begin{equation*}\n",
    "Q^{\\pi}(s,a)=E_{(s',a')\\sim p(.|s,a)}[r(s,a)+\\gamma Q^{\\pi}(s',a')]\n",
    "\\end{equation*}\n",
    "\n",
    "Then, show that for the optimal policy $\\pi^*$ (we assume its existence), the following holds: \n",
    "\n",
    "\\begin{equation*}\n",
    "Q^{*}(s,a)=E_{s'\\sim \\pi^*(.|s,a)}[r(s,a)+\\gamma\\max_{a'}Q^{*}(s',a')].\n",
    "\\end{equation*}\n",
    "Finally, deduce that a plausible objective is:\n",
    "\n",
    "\\begin{equation*}\n",
    "\\mathcal{L}(\\theta)=E_{s' \\sim \\pi^*(.|s,a)}\\Vert r+\\gamma\\max_{a'}Q(s',a',\\theta)-Q(s,a,\\theta)\\Vert^{2}.\n",
    "\\end{equation*}\n",
    "\n",
    "\n"
   ]
  },
  {
   "cell_type": "markdown",
   "metadata": {
    "hidden": true
   },
   "source": [
    "__[answer]__\n",
    "> + The Q-function of a policy $\\pi$ is defined for state $x$ and action $a$ as:\n",
    "$$Q^\\pi(s,a)=\\mathbb{E}[\\sum_{t=0}^{\\infty} \\gamma^t r(s_t, a_t) | s_0 = s, a_0 = a, a_t = \\pi(s_t); \\pi]$$\n",
    "and optimal Q-function is defined as $Q^*(s,a)=max_{\\pi} Q^\\pi(x,a)$\n",
    "\n",
    "> + Due to the conditionning to the first (state,action), we have:\n",
    "$$Q^\\pi(s,a)=r(s,a) + \\gamma \\sum_{s'\\in X}p(s'|s,a)V^\\pi(s') = r(s,a)+\\mathbb{E}_{(s',a')\\sim p(.|s,a)}[\\gamma Q^{\\pi}(s',a')]$$\n",
    "Likewise, $$Q^*(s,a)=r(s,a) + \\gamma \\sum_{s'\\in X}p(s'|s,a)V^*(s') = r(s,a)+\\mathbb{E}_{s'\\sim \\pi^*(.|s,a)}[\\gamma Q^{*}(s',a')]$$\n",
    "as $V^*(s') = Q^*(s',\\pi^*(s'))=max_{a\\in A}Q^*(s',a)$\n",
    "\n",
    "> + The Q-function is modelled by a Deep Neural Network with model parameters $\\theta$ [approximate RL - Q-function approximation]. We want to learn the parameters $\\theta$ to $\\theta^*$ such that $Q^*(s,a) = Q(s,a,\\theta^*), \\ \\forall (s,a)$. In this Deep Q-Network (DQN) setting, we use experience replay and optimize the Mean Square Error (MSE) between the Q-network and the Q-learning targets which is:\n",
    "$$\\mathbb{E}_{s' \\sim \\pi^*(.|s,a)}\\Vert r+\\gamma\\max_{a'}Q(s',a',\\theta)-Q(s,a,\\theta)\\Vert^{2}.$$\n",
    "\n",
    "> + However, every time the Q-function is updated, the target is updated as well which can cause spirale training problem.\n",
    "An extension is to fix the Q-learning targets parameters, this way, the updates bootstraps towards the frozen targets which helps stabililize the process. \n"
   ]
  },
  {
   "cell_type": "markdown",
   "metadata": {
    "hidden": true
   },
   "source": [
    "***\n",
    "The DQN-learning algorithm relies on these derivations to train the parameters $\\theta$ of a Deep Neural Network:\n",
    "\n",
    "1. At the state $s_t$, select the action $a_t$ with best reward using $Q_t$ and store the results;\n",
    "\n",
    "2. Obtain the new state $s_{t+1}$ from the environment $p$;\n",
    "\n",
    "3. Store $(s_t,a_t,s_{t+1})$;\n",
    "\n",
    "4. Obtain $Q_{t+1}$ by minimizing  $\\mathcal{L}$ from a recovered batch from the previously stored results.\n",
    "\n",
    "***\n",
    "__Question 6__ Implement the class ```Memory``` that stores moves (in a replay buffer) via ```remember``` and provides a ```random_access``` to these. Specify a maximum memory size to avoid side effects. You can for example use a ```list()``` and set by default ```max_memory=100```."
   ]
  },
  {
   "cell_type": "code",
   "execution_count": 15,
   "metadata": {
    "hidden": true
   },
   "outputs": [],
   "source": [
    "class Memory(object):\n",
    "    def __init__(self, max_memory=100):\n",
    "        self.max_memory = max_memory\n",
    "        self.memory = list()\n",
    "\n",
    "    def remember(self, m):\n",
    "        if len(self.memory) > self.max_memory:\n",
    "            self.memory.pop(0)\n",
    "        self.memory.append(m)\n",
    "            \n",
    "    def random_access(self):\n",
    "        return random.sample(self.memory, 1)[0]\n",
    "    \n",
    "    def sample(self, batchsize=32):\n",
    "        return random.sample(self.memory, batchsize)"
   ]
  },
  {
   "cell_type": "markdown",
   "metadata": {
    "hidden": true
   },
   "source": [
    "***\n",
    "The pipeline we will use for training is given below:"
   ]
  },
  {
   "cell_type": "code",
   "execution_count": 16,
   "metadata": {
    "hidden": true
   },
   "outputs": [],
   "source": [
    "def train(agent,env,epoch,prefix=''):\n",
    "    # Number of won games\n",
    "    score = 0\n",
    "    loss = 0\n",
    "\n",
    "    for e in range(epoch):\n",
    "        # At each epoch, we restart to a fresh game and get the initial state\n",
    "        state = env.reset()\n",
    "        # This assumes that the games will terminate\n",
    "        game_over = False\n",
    "\n",
    "        win = 0\n",
    "        lose = 0\n",
    "\n",
    "        while not game_over:\n",
    "            # The agent performs an action\n",
    "            action = agent.act(state)\n",
    "\n",
    "            # Apply an action to the environment, get the next state, the reward\n",
    "            # and if the games end\n",
    "            prev_state = state\n",
    "            state, reward, game_over = env.act(action)\n",
    "\n",
    "            # Update the counters\n",
    "            if reward > 0:\n",
    "                win = win + reward\n",
    "            if reward < 0:\n",
    "                lose = lose -reward\n",
    "\n",
    "            # Apply the reinforcement strategy\n",
    "            loss = agent.reinforce(prev_state, state,  action, reward, game_over)\n",
    "\n",
    "        # Save as a mp4\n",
    "        if e % 10 == 0:\n",
    "            env.draw(prefix+str(e))\n",
    "\n",
    "        # Update stats\n",
    "        score += win-lose\n",
    "\n",
    "        print(\"Epoch {:03d}/{:03d} | Loss {:.4f} | Win/lose count {}/{} ({})\"\n",
    "              .format(e, epoch, loss, win, lose, win-lose))\n",
    "        agent.save(name_weights=prefix+'model.h5',name_model=prefix+'model.json')"
   ]
  },
  {
   "cell_type": "markdown",
   "metadata": {
    "hidden": true
   },
   "source": [
    "***\n",
    "__Question 7__ Implement the DQN training algorithm using a cascade of fully connected layers. You can use different learning rate, batch size or memory size parameters. In particular, the loss might oscillate while the player will start to win the games. You have to find a good criterium."
   ]
  },
  {
   "cell_type": "code",
   "execution_count": 17,
   "metadata": {
    "hidden": true
   },
   "outputs": [],
   "source": [
    "class DQN(Agent):\n",
    "    def __init__(self, grid_size,  epsilon = 0.1, memory_size=100, batch_size = 16,n_state=2, discount=0.99):\n",
    "        super(DQN, self).__init__(epsilon = epsilon)\n",
    "\n",
    "        # Discount for Q learning\n",
    "        self.discount = discount\n",
    "        \n",
    "        self.grid_size = grid_size\n",
    "        \n",
    "        # number of state\n",
    "        self.n_state = n_state\n",
    "\n",
    "        # Memory\n",
    "        self.memory = Memory(memory_size)\n",
    "        \n",
    "        # Batch size when learning\n",
    "        self.batch_size = batch_size\n",
    "        \n",
    "        # Q-model\n",
    "        self.model = None\n",
    "\n",
    "    def learned_act(self, s):\n",
    "        #batch_size=1\n",
    "        s = np.expand_dims(s,axis=0)\n",
    "        return np.argmax(self.model.predict(s)[0])\n",
    "\n",
    "    def reinforce(self, s_, n_s_, a_, r_, game_over_):\n",
    "        # Two steps: first memorize the states, second learn from the pool\n",
    "\n",
    "        self.memory.remember([s_, n_s_, a_, r_, game_over_])\n",
    "        \n",
    "        input_states = np.zeros((self.batch_size, 5,5,self.n_state))\n",
    "        target_q = np.zeros((self.batch_size, 4))\n",
    "        \n",
    "        for i in range(self.batch_size):\n",
    "            s_, n_s_, a_, r_, game_over_ = self.memory.random_access()\n",
    "            \n",
    "            input_states[i] = s_\n",
    "            target_q[i] = self.model.predict(np.expand_dims(s_,axis=0))[0]\n",
    "            \n",
    "            if game_over_:\n",
    "                target_q[i,a_] = r_\n",
    "            else:\n",
    "                maxQ = np.max(self.model.predict(np.expand_dims(n_s_,axis=0))[0])\n",
    "                target_q[i,a_] = r_ + self.discount * maxQ \n",
    "\n",
    "        # HINT: Clip the target to avoid exploiding gradients.. -- clipping is a bit tighter\n",
    "        target_q = np.clip(target_q, -3, 3)\n",
    "        l = self.model.train_on_batch(input_states, target_q)\n",
    "\n",
    "\n",
    "        return l\n",
    "\n",
    "    def save(self,name_weights='model.h5',name_model='model.json'):\n",
    "        name_weights = os.path.join('models',name_weights)\n",
    "        self.model.save_weights(name_weights, overwrite=True)\n",
    "        with open(os.path.join('models',name_model), \"w\") as outfile:\n",
    "            json.dump(self.model.to_json(), outfile)\n",
    "            \n",
    "    def load(self,name_weights='model.h5',name_model='model.json'):\n",
    "        name_weights = os.path.join('models',name_weights)\n",
    "        with open(os.path.join('models',name_model), \"r\") as jfile:\n",
    "            model = model_from_json(json.load(jfile))\n",
    "        model.load_weights(name_weights)\n",
    "        model.compile(\"sgd\", \"mse\")\n",
    "        self.model = model\n",
    "\n",
    "            \n",
    "class DQN_FC(DQN):\n",
    "    def __init__(self, *args, lr=0.1,**kwargs):\n",
    "        super(DQN_FC, self).__init__( *args,**kwargs)\n",
    "        \n",
    "        # NN Model\n",
    "        \n",
    "        model = Sequential()\n",
    "        model.add(Flatten(input_shape=(5,5,self.n_state,)))\n",
    "        model.add(Dense(64, activation='relu'))\n",
    "        model.add(Dense(32, activation='relu'))\n",
    "        # No sigmoid for last layer as we want to learn the Q-values and not the probabilities of each action\n",
    "        model.add(Dense(4))\n",
    "\n",
    "        model.compile(sgd(lr=lr, decay=1e-4, momentum=0.0), \"mse\")\n",
    "        self.model = model\n",
    "        \n"
   ]
  },
  {
   "cell_type": "code",
   "execution_count": 19,
   "metadata": {
    "hidden": true,
    "scrolled": true
   },
   "outputs": [
    {
     "name": "stdout",
     "output_type": "stream",
     "text": [
      "Epoch 000/101 | Loss 0.0041 | Win/lose count 2.5/1.0 (1.5)\n",
      "Epoch 001/101 | Loss 0.0017 | Win/lose count 3.0/2.0 (1.0)\n",
      "Epoch 002/101 | Loss 0.0011 | Win/lose count 2.5/5.0 (-2.5)\n",
      "Epoch 003/101 | Loss 0.0071 | Win/lose count 2.0/1.0 (1.0)\n",
      "Epoch 004/101 | Loss 0.0009 | Win/lose count 2.5/4.0 (-1.5)\n",
      "Epoch 005/101 | Loss 0.0204 | Win/lose count 4.5/5.0 (-0.5)\n",
      "Epoch 006/101 | Loss 0.0010 | Win/lose count 1.5/1.0 (0.5)\n",
      "Epoch 007/101 | Loss 0.0054 | Win/lose count 5.5/4.0 (1.5)\n",
      "Epoch 008/101 | Loss 0.0115 | Win/lose count 1.0/4.0 (-3.0)\n",
      "Epoch 009/101 | Loss 0.0058 | Win/lose count 1.5/2.0 (-0.5)\n",
      "Epoch 010/101 | Loss 0.0075 | Win/lose count 2.5/2.0 (0.5)\n",
      "Epoch 011/101 | Loss 0.0040 | Win/lose count 3.5/3.0 (0.5)\n",
      "Epoch 012/101 | Loss 0.0088 | Win/lose count 4.0/7.0 (-3.0)\n",
      "Epoch 013/101 | Loss 0.0412 | Win/lose count 2.5/2.0 (0.5)\n",
      "Epoch 014/101 | Loss 0.0026 | Win/lose count 5.5/4.0 (1.5)\n",
      "Epoch 015/101 | Loss 0.0034 | Win/lose count 10.0/6.0 (4.0)\n",
      "Epoch 016/101 | Loss 0.0113 | Win/lose count 4.5/8.0 (-3.5)\n",
      "Epoch 017/101 | Loss 0.0064 | Win/lose count 5.0/2.0 (3.0)\n",
      "Epoch 018/101 | Loss 0.0036 | Win/lose count 8.0/8.0 (0.0)\n",
      "Epoch 019/101 | Loss 0.0057 | Win/lose count 2.5/6.0 (-3.5)\n",
      "Epoch 020/101 | Loss 0.0083 | Win/lose count 5.0/1.0 (4.0)\n",
      "Epoch 021/101 | Loss 0.0098 | Win/lose count 6.5/4.0 (2.5)\n",
      "Epoch 022/101 | Loss 0.0081 | Win/lose count 5.0/5.0 (0.0)\n",
      "Epoch 023/101 | Loss 0.0492 | Win/lose count 5.0/1.0 (4.0)\n",
      "Epoch 024/101 | Loss 0.0087 | Win/lose count 5.0/4.0 (1.0)\n",
      "Epoch 025/101 | Loss 0.0067 | Win/lose count 4.5/3.0 (1.5)\n",
      "Epoch 026/101 | Loss 0.0045 | Win/lose count 3.5/5.0 (-1.5)\n",
      "Epoch 027/101 | Loss 0.0035 | Win/lose count 5.0/1.0 (4.0)\n",
      "Epoch 028/101 | Loss 0.0438 | Win/lose count 1.5/3.0 (-1.5)\n",
      "Epoch 029/101 | Loss 0.0048 | Win/lose count 11.5/3.0 (8.5)\n",
      "Epoch 030/101 | Loss 0.0044 | Win/lose count 10.5/3.0 (7.5)\n",
      "Epoch 031/101 | Loss 0.0089 | Win/lose count 10.0/2.0 (8.0)\n",
      "Epoch 032/101 | Loss 0.0026 | Win/lose count 10.0/1.0 (9.0)\n",
      "Epoch 033/101 | Loss 0.0033 | Win/lose count 9.0/1.0 (8.0)\n",
      "Epoch 034/101 | Loss 0.0069 | Win/lose count 6.5/1.0 (5.5)\n",
      "Epoch 035/101 | Loss 0.0527 | Win/lose count 5.5/4.0 (1.5)\n",
      "Epoch 036/101 | Loss 0.0042 | Win/lose count 3.5/1.0 (2.5)\n",
      "Epoch 037/101 | Loss 0.0023 | Win/lose count 3.5/4.0 (-0.5)\n",
      "Epoch 038/101 | Loss 0.0054 | Win/lose count 6.0/3.0 (3.0)\n",
      "Epoch 039/101 | Loss 0.0029 | Win/lose count 8.0/4.0 (4.0)\n",
      "Epoch 040/101 | Loss 0.0111 | Win/lose count 17.0/6.0 (11.0)\n",
      "Epoch 041/101 | Loss 0.0025 | Win/lose count 6.0/2.0 (4.0)\n",
      "Epoch 042/101 | Loss 0.0027 | Win/lose count 6.5/4.0 (2.5)\n",
      "Epoch 043/101 | Loss 0.0029 | Win/lose count 8.0/2.0 (6.0)\n",
      "Epoch 044/101 | Loss 0.0058 | Win/lose count 5.5/2.0 (3.5)\n",
      "Epoch 045/101 | Loss 0.0055 | Win/lose count 17.5/4.0 (13.5)\n",
      "Epoch 046/101 | Loss 0.0043 | Win/lose count 9.0/3.0 (6.0)\n",
      "Epoch 047/101 | Loss 0.0092 | Win/lose count 8.0/1.0 (7.0)\n",
      "Epoch 048/101 | Loss 0.0043 | Win/lose count 7.0/1.0 (6.0)\n",
      "Epoch 049/101 | Loss 0.0042 | Win/lose count 8.0/2.0 (6.0)\n",
      "Epoch 050/101 | Loss 0.0115 | Win/lose count 1.0/2.0 (-1.0)\n",
      "Epoch 051/101 | Loss 0.0059 | Win/lose count 4.5/1.0 (3.5)\n",
      "Epoch 052/101 | Loss 0.0146 | Win/lose count 4.5/6.0 (-1.5)\n",
      "Epoch 053/101 | Loss 0.0070 | Win/lose count 7.0/1.0 (6.0)\n",
      "Epoch 054/101 | Loss 0.0036 | Win/lose count 3.0/1.0 (2.0)\n",
      "Epoch 055/101 | Loss 0.0009 | Win/lose count 6.5/0 (6.5)\n",
      "Epoch 056/101 | Loss 0.0028 | Win/lose count 15.5/1.0 (14.5)\n",
      "Epoch 057/101 | Loss 0.0019 | Win/lose count 10.0/3.0 (7.0)\n",
      "Epoch 058/101 | Loss 0.0020 | Win/lose count 7.5/1.0 (6.5)\n",
      "Epoch 059/101 | Loss 0.0052 | Win/lose count 11.0/2.0 (9.0)\n",
      "Epoch 060/101 | Loss 0.1401 | Win/lose count 16.0/3.0 (13.0)\n",
      "Epoch 061/101 | Loss 0.0042 | Win/lose count 8.5/2.0 (6.5)\n",
      "Epoch 062/101 | Loss 0.0048 | Win/lose count 5.5/2.0 (3.5)\n",
      "Epoch 063/101 | Loss 0.0087 | Win/lose count 1.5/1.0 (0.5)\n",
      "Epoch 064/101 | Loss 0.0057 | Win/lose count 3.0/2.0 (1.0)\n",
      "Epoch 065/101 | Loss 0.0570 | Win/lose count 17.0/5.0 (12.0)\n",
      "Epoch 066/101 | Loss 0.0401 | Win/lose count 19.0/3.0 (16.0)\n",
      "Epoch 067/101 | Loss 0.0045 | Win/lose count 16.0/7.0 (9.0)\n",
      "Epoch 068/101 | Loss 0.0092 | Win/lose count 12.5/0 (12.5)\n",
      "Epoch 069/101 | Loss 0.0024 | Win/lose count 10.5/1.0 (9.5)\n",
      "Epoch 070/101 | Loss 0.0024 | Win/lose count 15.0/4.0 (11.0)\n",
      "Epoch 071/101 | Loss 0.0489 | Win/lose count 8.0/2.0 (6.0)\n",
      "Epoch 072/101 | Loss 0.0028 | Win/lose count 13.5/5.0 (8.5)\n",
      "Epoch 073/101 | Loss 0.0039 | Win/lose count 11.5/0 (11.5)\n",
      "Epoch 074/101 | Loss 0.0055 | Win/lose count 2.5/1.0 (1.5)\n",
      "Epoch 075/101 | Loss 0.0019 | Win/lose count 11.5/4.0 (7.5)\n",
      "Epoch 076/101 | Loss 0.0421 | Win/lose count 9.5/3.0 (6.5)\n",
      "Epoch 077/101 | Loss 0.0028 | Win/lose count 10.0/0 (10.0)\n",
      "Epoch 078/101 | Loss 0.0026 | Win/lose count 15.5/2.0 (13.5)\n",
      "Epoch 079/101 | Loss 0.0059 | Win/lose count 7.0/4.0 (3.0)\n",
      "Epoch 080/101 | Loss 0.0046 | Win/lose count 7.0/0 (7.0)\n",
      "Epoch 081/101 | Loss 0.0024 | Win/lose count 2.5/3.0 (-0.5)\n",
      "Epoch 082/101 | Loss 0.0058 | Win/lose count 6.5/0 (6.5)\n",
      "Epoch 083/101 | Loss 0.0037 | Win/lose count 11.5/0 (11.5)\n",
      "Epoch 084/101 | Loss 0.0487 | Win/lose count 4.0/1.0 (3.0)\n",
      "Epoch 085/101 | Loss 0.0027 | Win/lose count 2.0/3.0 (-1.0)\n",
      "Epoch 086/101 | Loss 0.0017 | Win/lose count 3.5/0 (3.5)\n",
      "Epoch 087/101 | Loss 0.0018 | Win/lose count 7.0/1.0 (6.0)\n",
      "Epoch 088/101 | Loss 0.0043 | Win/lose count 9.0/6.0 (3.0)\n",
      "Epoch 089/101 | Loss 0.0028 | Win/lose count 12.0/6.0 (6.0)\n",
      "Epoch 090/101 | Loss 0.0020 | Win/lose count 11.0/2.0 (9.0)\n",
      "Epoch 091/101 | Loss 0.0019 | Win/lose count 10.0/1.0 (9.0)\n",
      "Epoch 092/101 | Loss 0.0028 | Win/lose count 12.5/2.0 (10.5)\n",
      "Epoch 093/101 | Loss 0.0054 | Win/lose count 5.0/3.0 (2.0)\n",
      "Epoch 094/101 | Loss 0.0088 | Win/lose count 13.0/1.0 (12.0)\n",
      "Epoch 095/101 | Loss 0.0070 | Win/lose count 6.0/1.0 (5.0)\n",
      "Epoch 096/101 | Loss 0.0045 | Win/lose count 8.0/3.0 (5.0)\n",
      "Epoch 097/101 | Loss 0.0036 | Win/lose count 10.5/4.0 (6.5)\n",
      "Epoch 098/101 | Loss 0.0520 | Win/lose count 8.0/2.0 (6.0)\n",
      "Epoch 099/101 | Loss 0.0042 | Win/lose count 14.5/3.0 (11.5)\n",
      "Epoch 100/101 | Loss 0.0044 | Win/lose count 16.5/1.0 (15.5)\n"
     ]
    }
   ],
   "source": [
    "epochs_train = 101\n",
    "env = Environment(grid_size=size, max_time=T, temperature=0.3)\n",
    "agent = DQN_FC(size, lr=.1, epsilon = 0.1, memory_size=2000, batch_size = 32)\n",
    "train(agent, env, epochs_train, prefix='fc_train')\n"
   ]
  },
  {
   "cell_type": "code",
   "execution_count": 20,
   "metadata": {
    "hidden": true
   },
   "outputs": [
    {
     "data": {
      "text/html": [
       "<video alt=\"test\" controls>\n",
       "                <source src=\"data:video/mp4;base64,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\" type=\"video/mp4\" />\n",
       "             </video>"
      ],
      "text/plain": [
       "<IPython.core.display.HTML object>"
      ]
     },
     "execution_count": 20,
     "metadata": {},
     "output_type": "execute_result"
    }
   ],
   "source": [
    "HTML(display_videos('videos/fc_train100.mp4'))"
   ]
  },
  {
   "cell_type": "markdown",
   "metadata": {
    "hidden": true
   },
   "source": [
    "***\n",
    "***\n",
    "__Question 8__ Implement the DQN training algorithm using a CNN (for example, 2 convolutional layers and one final fully connected layer)."
   ]
  },
  {
   "cell_type": "code",
   "execution_count": 21,
   "metadata": {
    "hidden": true
   },
   "outputs": [],
   "source": [
    "class DQN_CNN(DQN):\n",
    "    def __init__(self, *args,lr=0.1,**kwargs):\n",
    "        super(DQN_CNN, self).__init__(*args,**kwargs)\n",
    "        \n",
    "        model = Sequential()\n",
    "\n",
    "        model.add(Conv2D(64, (2,2), input_shape = (5, 5, self.n_state,), activation='relu'))\n",
    "        model.add(Conv2D(32, (2,2), activation='relu'))\n",
    "        model.add(Flatten())\n",
    "        model.add(Dense(4))\n",
    "        \n",
    "        model.compile(sgd(lr=lr, decay=1e-4, momentum=0.0), \"mse\")\n",
    "        self.model = model"
   ]
  },
  {
   "cell_type": "code",
   "execution_count": 22,
   "metadata": {
    "hidden": true,
    "scrolled": true
   },
   "outputs": [
    {
     "name": "stdout",
     "output_type": "stream",
     "text": [
      "Epoch 000/101 | Loss 0.0021 | Win/lose count 2.5/4.0 (-1.5)\n",
      "Epoch 001/101 | Loss 0.0029 | Win/lose count 3.5/7.0 (-3.5)\n",
      "Epoch 002/101 | Loss 0.0035 | Win/lose count 2.0/0 (2.0)\n",
      "Epoch 003/101 | Loss 0.0694 | Win/lose count 4.0/2.0 (2.0)\n",
      "Epoch 004/101 | Loss 0.0023 | Win/lose count 4.0/8.0 (-4.0)\n",
      "Epoch 005/101 | Loss 0.0028 | Win/lose count 3.5/8.0 (-4.5)\n",
      "Epoch 006/101 | Loss 0.0032 | Win/lose count 3.5/6.0 (-2.5)\n",
      "Epoch 007/101 | Loss 0.0100 | Win/lose count 4.5/4.0 (0.5)\n",
      "Epoch 008/101 | Loss 0.0603 | Win/lose count 4.0/4.0 (0.0)\n",
      "Epoch 009/101 | Loss 0.0041 | Win/lose count 7.0/3.0 (4.0)\n",
      "Epoch 010/101 | Loss 0.0018 | Win/lose count 3.0/3.0 (0.0)\n",
      "Epoch 011/101 | Loss 0.0027 | Win/lose count 3.0/4.0 (-1.0)\n",
      "Epoch 012/101 | Loss 0.0016 | Win/lose count 3.0/2.0 (1.0)\n",
      "Epoch 013/101 | Loss 0.0008 | Win/lose count 1.5/0 (1.5)\n",
      "Epoch 014/101 | Loss 0.0018 | Win/lose count 6.0/4.0 (2.0)\n",
      "Epoch 015/101 | Loss 0.0041 | Win/lose count 8.5/2.0 (6.5)\n",
      "Epoch 016/101 | Loss 0.0017 | Win/lose count 7.0/1.0 (6.0)\n",
      "Epoch 017/101 | Loss 0.0051 | Win/lose count 6.0/1.0 (5.0)\n",
      "Epoch 018/101 | Loss 0.0012 | Win/lose count 8.0/2.0 (6.0)\n",
      "Epoch 019/101 | Loss 0.0020 | Win/lose count 6.0/1.0 (5.0)\n",
      "Epoch 020/101 | Loss 0.0032 | Win/lose count 6.5/3.0 (3.5)\n",
      "Epoch 021/101 | Loss 0.0617 | Win/lose count 14.0/1.0 (13.0)\n",
      "Epoch 022/101 | Loss 0.0018 | Win/lose count 8.0/3.0 (5.0)\n",
      "Epoch 023/101 | Loss 0.0036 | Win/lose count 11.0/1.0 (10.0)\n",
      "Epoch 024/101 | Loss 0.0516 | Win/lose count 10.5/2.0 (8.5)\n",
      "Epoch 025/101 | Loss 0.0023 | Win/lose count 13.0/3.0 (10.0)\n",
      "Epoch 026/101 | Loss 0.0020 | Win/lose count 16.5/0 (16.5)\n",
      "Epoch 027/101 | Loss 0.0020 | Win/lose count 3.0/0 (3.0)\n",
      "Epoch 028/101 | Loss 0.0020 | Win/lose count 18.5/7.0 (11.5)\n",
      "Epoch 029/101 | Loss 0.0013 | Win/lose count 8.0/3.0 (5.0)\n",
      "Epoch 030/101 | Loss 0.0645 | Win/lose count 19.5/3.0 (16.5)\n",
      "Epoch 031/101 | Loss 0.0043 | Win/lose count 8.0/0 (8.0)\n",
      "Epoch 032/101 | Loss 0.0030 | Win/lose count 18.5/3.0 (15.5)\n",
      "Epoch 033/101 | Loss 0.0041 | Win/lose count 13.0/3.0 (10.0)\n",
      "Epoch 034/101 | Loss 0.0022 | Win/lose count 11.5/3.0 (8.5)\n",
      "Epoch 035/101 | Loss 0.0021 | Win/lose count 11.0/3.0 (8.0)\n",
      "Epoch 036/101 | Loss 0.0466 | Win/lose count 2.5/3.0 (-0.5)\n",
      "Epoch 037/101 | Loss 0.0024 | Win/lose count 23.5/4.0 (19.5)\n",
      "Epoch 038/101 | Loss 0.0039 | Win/lose count 6.5/1.0 (5.5)\n",
      "Epoch 039/101 | Loss 0.0028 | Win/lose count 21.5/3.0 (18.5)\n",
      "Epoch 040/101 | Loss 0.0024 | Win/lose count 19.0/2.0 (17.0)\n",
      "Epoch 041/101 | Loss 0.0568 | Win/lose count 18.5/5.0 (13.5)\n",
      "Epoch 042/101 | Loss 0.0043 | Win/lose count 23.0/5.0 (18.0)\n",
      "Epoch 043/101 | Loss 0.0596 | Win/lose count 13.5/5.0 (8.5)\n",
      "Epoch 044/101 | Loss 0.0027 | Win/lose count 18.5/5.0 (13.5)\n",
      "Epoch 045/101 | Loss 0.0025 | Win/lose count 11.0/2.0 (9.0)\n",
      "Epoch 046/101 | Loss 0.0021 | Win/lose count 15.5/0 (15.5)\n",
      "Epoch 047/101 | Loss 0.0032 | Win/lose count 13.5/0 (13.5)\n",
      "Epoch 048/101 | Loss 0.0023 | Win/lose count 10.0/3.0 (7.0)\n",
      "Epoch 049/101 | Loss 0.0546 | Win/lose count 21.0/2.0 (19.0)\n",
      "Epoch 050/101 | Loss 0.0020 | Win/lose count 17.0/5.0 (12.0)\n",
      "Epoch 051/101 | Loss 0.0129 | Win/lose count 16.5/2.0 (14.5)\n",
      "Epoch 052/101 | Loss 0.0031 | Win/lose count 19.5/4.0 (15.5)\n",
      "Epoch 053/101 | Loss 0.0020 | Win/lose count 6.0/2.0 (4.0)\n",
      "Epoch 054/101 | Loss 0.0012 | Win/lose count 24.0/1.0 (23.0)\n",
      "Epoch 055/101 | Loss 0.0025 | Win/lose count 12.0/2.0 (10.0)\n",
      "Epoch 056/101 | Loss 0.0587 | Win/lose count 17.5/4.0 (13.5)\n",
      "Epoch 057/101 | Loss 0.0027 | Win/lose count 14.5/4.0 (10.5)\n",
      "Epoch 058/101 | Loss 0.0027 | Win/lose count 13.0/4.0 (9.0)\n",
      "Epoch 059/101 | Loss 0.0018 | Win/lose count 16.5/0 (16.5)\n",
      "Epoch 060/101 | Loss 0.1081 | Win/lose count 12.5/2.0 (10.5)\n",
      "Epoch 061/101 | Loss 0.0014 | Win/lose count 10.0/5.0 (5.0)\n",
      "Epoch 062/101 | Loss 0.0497 | Win/lose count 14.0/5.0 (9.0)\n",
      "Epoch 063/101 | Loss 0.0040 | Win/lose count 17.5/0 (17.5)\n",
      "Epoch 064/101 | Loss 0.0012 | Win/lose count 25.5/2.0 (23.5)\n",
      "Epoch 065/101 | Loss 0.0042 | Win/lose count 16.0/4.0 (12.0)\n",
      "Epoch 066/101 | Loss 0.0044 | Win/lose count 21.0/3.0 (18.0)\n",
      "Epoch 067/101 | Loss 0.0041 | Win/lose count 22.5/4.0 (18.5)\n",
      "Epoch 068/101 | Loss 0.0020 | Win/lose count 19.5/1.0 (18.5)\n",
      "Epoch 069/101 | Loss 0.0045 | Win/lose count 28.0/3.0 (25.0)\n",
      "Epoch 070/101 | Loss 0.0042 | Win/lose count 24.5/1.0 (23.5)\n",
      "Epoch 071/101 | Loss 0.0025 | Win/lose count 21.5/4.0 (17.5)\n",
      "Epoch 072/101 | Loss 0.0023 | Win/lose count 12.0/3.0 (9.0)\n",
      "Epoch 073/101 | Loss 0.0037 | Win/lose count 18.0/3.0 (15.0)\n",
      "Epoch 074/101 | Loss 0.0032 | Win/lose count 9.5/5.0 (4.5)\n",
      "Epoch 075/101 | Loss 0.0478 | Win/lose count 20.0/2.0 (18.0)\n",
      "Epoch 076/101 | Loss 0.0507 | Win/lose count 22.0/3.0 (19.0)\n",
      "Epoch 077/101 | Loss 0.0477 | Win/lose count 17.5/3.0 (14.5)\n",
      "Epoch 078/101 | Loss 0.0574 | Win/lose count 20.0/2.0 (18.0)\n",
      "Epoch 079/101 | Loss 0.0018 | Win/lose count 13.0/4.0 (9.0)\n",
      "Epoch 080/101 | Loss 0.0052 | Win/lose count 13.5/1.0 (12.5)\n",
      "Epoch 081/101 | Loss 0.0027 | Win/lose count 11.0/5.0 (6.0)\n",
      "Epoch 082/101 | Loss 0.0019 | Win/lose count 25.0/5.0 (20.0)\n",
      "Epoch 083/101 | Loss 0.0525 | Win/lose count 18.0/2.0 (16.0)\n",
      "Epoch 084/101 | Loss 0.0020 | Win/lose count 11.5/4.0 (7.5)\n",
      "Epoch 085/101 | Loss 0.0021 | Win/lose count 23.0/4.0 (19.0)\n",
      "Epoch 086/101 | Loss 0.0011 | Win/lose count 22.5/4.0 (18.5)\n",
      "Epoch 087/101 | Loss 0.0030 | Win/lose count 11.0/3.0 (8.0)\n",
      "Epoch 088/101 | Loss 0.0018 | Win/lose count 9.0/4.0 (5.0)\n",
      "Epoch 089/101 | Loss 0.0511 | Win/lose count 9.5/3.0 (6.5)\n",
      "Epoch 090/101 | Loss 0.0160 | Win/lose count 8.5/2.0 (6.5)\n",
      "Epoch 091/101 | Loss 0.0015 | Win/lose count 15.5/0 (15.5)\n",
      "Epoch 092/101 | Loss 0.0032 | Win/lose count 11.0/2.0 (9.0)\n",
      "Epoch 093/101 | Loss 0.0009 | Win/lose count 15.0/3.0 (12.0)\n",
      "Epoch 094/101 | Loss 0.0033 | Win/lose count 16.5/4.0 (12.5)\n",
      "Epoch 095/101 | Loss 0.0032 | Win/lose count 13.0/2.0 (11.0)\n",
      "Epoch 096/101 | Loss 0.0014 | Win/lose count 19.0/4.0 (15.0)\n",
      "Epoch 097/101 | Loss 0.0024 | Win/lose count 13.0/2.0 (11.0)\n",
      "Epoch 098/101 | Loss 0.0037 | Win/lose count 19.5/1.0 (18.5)\n",
      "Epoch 099/101 | Loss 0.0029 | Win/lose count 21.5/3.0 (18.5)\n",
      "Epoch 100/101 | Loss 0.0018 | Win/lose count 26.0/5.0 (21.0)\n"
     ]
    },
    {
     "data": {
      "text/html": [
       "<video alt=\"test\" controls>\n",
       "                <source src=\"data:video/mp4;base64,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\" type=\"video/mp4\" />\n",
       "             </video>"
      ],
      "text/plain": [
       "<IPython.core.display.HTML object>"
      ]
     },
     "execution_count": 22,
     "metadata": {},
     "output_type": "execute_result"
    }
   ],
   "source": [
    "epochs_train = 101\n",
    "\n",
    "env = Environment(grid_size=size, max_time=T, temperature=0.3)\n",
    "agent = DQN_CNN(size, lr=.1, epsilon = 0.1, memory_size=2000, batch_size = 32)\n",
    "train(agent,env,epochs_train,prefix='cnn_train')\n",
    "HTML(display_videos('videos/cnn_train100.mp4'))"
   ]
  },
  {
   "cell_type": "markdown",
   "metadata": {
    "hidden": true
   },
   "source": [
    "***\n",
    "***\n",
    "__Question 9__ Test both algorithms and compare their performances. Which issue(s) do you observe? Observe also different behaviors by changing the temperature."
   ]
  },
  {
   "cell_type": "code",
   "execution_count": 47,
   "metadata": {
    "hidden": true
   },
   "outputs": [],
   "source": [
    "epochs_test=11 # set small when debugging"
   ]
  },
  {
   "cell_type": "code",
   "execution_count": 48,
   "metadata": {
    "hidden": true,
    "scrolled": true
   },
   "outputs": [
    {
     "name": "stderr",
     "output_type": "stream",
     "text": [
      "\n",
      "\n",
      "\n",
      "\n",
      "  0%|          | 0/5 [00:00<?, ?it/s]\u001b[A\u001b[A\u001b[A\u001b[A\n",
      "\n",
      "\n",
      "\n",
      " 20%|██        | 1/5 [02:17<09:11, 137.86s/it]\u001b[A\u001b[A\u001b[A\u001b[A\n",
      "\n",
      "\n",
      "\n",
      " 40%|████      | 2/5 [04:31<06:49, 136.58s/it]\u001b[A\u001b[A\u001b[A\u001b[A\n",
      "\n",
      "\n",
      "\n",
      " 60%|██████    | 3/5 [06:49<04:34, 137.09s/it]\u001b[A\u001b[A\u001b[A\u001b[A\n",
      "\n",
      "\n",
      "\n",
      " 80%|████████  | 4/5 [09:05<02:16, 136.61s/it]\u001b[A\u001b[A\u001b[A\u001b[A\n",
      "\n",
      "\n",
      "\n",
      "100%|██████████| 5/5 [11:21<00:00, 136.59s/it]\u001b[A\u001b[A\u001b[A\u001b[A\n",
      "\n",
      "\n",
      "\n",
      "\u001b[A\u001b[A\u001b[A\u001b[A"
     ]
    },
    {
     "name": "stdout",
     "output_type": "stream",
     "text": [
      "|   temperature |     board |      cnn |         fc |\n",
      "|---------------+-----------+----------+------------|\n",
      "|           0.1 |  -9.88636 |  2.09091 |  0.0454545 |\n",
      "|           0.3 | -15.5909  |  7.63636 |  0.545455  |\n",
      "|           0.5 |  -1.27273 | 16       |  6.45455   |\n",
      "|           0.7 |  27.1364  | 27.2727  | 10.5909    |\n",
      "|           0.9 |  82.8864  | 49.5455  | 26.0909    |\n"
     ]
    }
   ],
   "source": [
    "agent_cnn = DQN_CNN(size, lr=.1, epsilon = 0.1, memory_size=2000, batch_size = 32)\n",
    "agent_cnn.load(name_weights='cnn_trainmodel.h5',name_model='cnn_trainmodel.json')\n",
    "\n",
    "agent_fc = DQN_FC(size, lr=.1, epsilon = 0.1, memory_size=2000, batch_size = 32)\n",
    "agent_cnn.load(name_weights='fc_trainmodel.h5',name_model='fc_trainmodel.json')\n",
    "\n",
    "temperatures=[0.1,0.3,0.5,0.7,0.9]\n",
    "cnn_scores=[]\n",
    "fc_scores=[]\n",
    "board_potentials=[]\n",
    "for temperature in tqdm.tqdm(temperatures):\n",
    "    env = Environment(grid_size=size, max_time=T,temperature=temperature)\n",
    "    cnn_score,cnn_board_potential = test(agent_cnn,env,epochs_test,prefix=f'cnn_temp_{temperature}_test',verbose=False)\n",
    "    fc_score,fc_board_potential = test(agent_fc,env,epochs_test,prefix=f'fc_temp_{temperature}_test',verbose=False)\n",
    "    board_potential = (cnn_board_potential + fc_board_potential) / 2\n",
    "    \n",
    "    cnn_scores.append(cnn_score)\n",
    "    fc_scores.append(fc_score)\n",
    "    board_potentials.append(board_potential)\n",
    "    \n",
    "print(tabulate(np.stack([temperatures, board_potentials, cnn_scores, fc_scores], axis = 1), headers=['temperature', 'board', 'cnn', 'fc'], tablefmt='orgtbl'))"
   ]
  },
  {
   "cell_type": "code",
   "execution_count": 57,
   "metadata": {
    "hidden": true
   },
   "outputs": [
    {
     "data": {
      "image/png": "[encoded data removed]",
      "text/plain": [
       "<Figure size 1080x576 with 1 Axes>"
      ]
     },
     "metadata": {
      "needs_background": "light"
     },
     "output_type": "display_data"
    }
   ],
   "source": [
    "plot_standard([board_potentials, cnn_scores, fc_scores], ['board','cnn','fc'], None, 'CNN vs FC comparison wrt temperature', 'score','temperature',x_plots=[temperatures]*3, )"
   ]
  },
  {
   "cell_type": "code",
   "execution_count": 58,
   "metadata": {
    "hidden": true
   },
   "outputs": [
    {
     "data": {
      "text/html": [
       "<video alt=\"test\" controls>\n",
       "                <source src=\"data:video/mp4;base64,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\" type=\"video/mp4\" />\n",
       "             </video>"
      ],
      "text/plain": [
       "<IPython.core.display.HTML object>"
      ]
     },
     "execution_count": 58,
     "metadata": {},
     "output_type": "execute_result"
    }
   ],
   "source": [
    "HTML(display_videos(f'videos/cnn_temp_0.7_test{epochs_test-1}.mp4'))"
   ]
  },
  {
   "cell_type": "code",
   "execution_count": 59,
   "metadata": {
    "hidden": true
   },
   "outputs": [
    {
     "data": {
      "text/html": [
       "<video alt=\"test\" controls>\n",
       "                <source src=\"data:video/mp4;base64,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\" type=\"video/mp4\" />\n",
       "             </video>"
      ],
      "text/plain": [
       "<IPython.core.display.HTML object>"
      ]
     },
     "execution_count": 59,
     "metadata": {},
     "output_type": "execute_result"
    }
   ],
   "source": [
    "HTML(display_videos(f'videos/fc_temp_0.7_test{epochs_test-1}.mp4'))"
   ]
  },
  {
   "cell_type": "markdown",
   "metadata": {
    "hidden": true
   },
   "source": [
    "__[answer]__\n",
    "\n",
    "The two DQN (CNN and FullyConnected) is trained for temperature $0.3$ during $100$ epochs. We test the DQN on different environment conditions parameterized by the temperature in $[0.1, 0.3, 0.5, 0.7, 0.9]$. The results (average final score) are summarized in the table and plot above.\n",
    "\n",
    "Note that both probability of cheese and poison spawning on a cell is fixed by the temperature and that when they both spawn, only the cheese remains. This means that when temperature is increasing, the map is more friendly to the agent as there are a lot more cheese than poisons. To track this, we compute the average sum of the reward of all cells of the board per temperature.\n",
    "We expect in fact the algos to perform better in those more friendly environment. However, we see that the DQNs don't progress as rapidly as the potential of the board, especially for the FC DQN. Overall, the CNN DQN performs better than DQN especially when temperature gets high: it has a better geographical interpretation of the rat's visibility.\n",
    "\n",
    "By looking at the replay of the game, we observe that the algorithm tend to not explore the map efficiently enough, often the agent comes back to a previous position, which reward has already been eaten."
   ]
  },
  {
   "cell_type": "markdown",
   "metadata": {
    "heading_collapsed": true
   },
   "source": [
    "### DQN Explore\n",
    "***\n",
    "\n",
    "The algorithm tends to not explore the map which can be an issue. We propose two ideas in order to encourage exploration:\n",
    "1. Incorporating a decreasing $\\epsilon$-greedy exploration. You can use the method ```set_epsilon```\n",
    "2. Append via the environment a new state that describes if a cell has been visited or not\n",
    "\n",
    "***\n",
    "__Question 10__ Design a new ```train_explore``` function and environment class ```EnvironmentExploring``` to tackle the issue of exploration.\n",
    "\n"
   ]
  },
  {
   "cell_type": "code",
   "execution_count": 60,
   "metadata": {
    "hidden": true
   },
   "outputs": [],
   "source": [
    "def train_explore(agent,env,epoch,prefix='', decay_eps=0.1):\n",
    "    # Number of won games\n",
    "    score = 0\n",
    "    loss = 0\n",
    "\n",
    "    for e in range(epoch):\n",
    "        # At each epoch, we restart to a fresh game and get the initial state\n",
    "        state = env.reset()\n",
    "        agent.set_epsilon((1-decay_eps)*agent.epsilon)\n",
    "        \n",
    "        # This assumes that the games will terminate\n",
    "        game_over = False\n",
    "        win = 0\n",
    "        lose = 0\n",
    "\n",
    "        while not game_over:\n",
    "            # The agent performs an action\n",
    "            action = agent.act(state)\n",
    "\n",
    "            # Apply an action to the environment, get the next state, the reward\n",
    "            # and if the games end\n",
    "            prev_state = state\n",
    "            state, reward, game_over = env.act(action, train=True)\n",
    "\n",
    "            # Update the counters\n",
    "            if reward > 0:\n",
    "                win = win + reward\n",
    "            if reward < 0:\n",
    "                lose = lose -reward\n",
    "\n",
    "            # Apply the reinforcement strategy\n",
    "            loss = agent.reinforce(prev_state, state,  action, reward, game_over)\n",
    "\n",
    "        # Save as a mp4\n",
    "        if e % 10 == 0:\n",
    "            env.draw(prefix+str(e))\n",
    "\n",
    "        # Update stats\n",
    "        score += win-lose\n",
    "\n",
    "        print(\"Epoch {:03d}/{:03d} | Loss {:.4f} | Win/lose count {}/{} ({})\"\n",
    "              .format(e, epoch, loss, win, np.round(lose,2), np.round(win-lose,2)))\n",
    "        agent.save(name_weights=prefix+'model.h5',name_model=prefix+'model.json')\n",
    "        \n",
    "        \n",
    "class EnvironmentExploring(object):\n",
    "    def __init__(self, grid_size=10, max_time=500, temperature=0.1):\n",
    "        grid_size = grid_size+4\n",
    "        self.grid_size = grid_size\n",
    "        self.max_time = max_time\n",
    "        self.temperature = temperature\n",
    "\n",
    "        #board on which one plays\n",
    "        self.board = np.zeros((grid_size,grid_size))\n",
    "        self.position = np.zeros((grid_size,grid_size))\n",
    "        self.malus_position = np.zeros((grid_size,grid_size))\n",
    "\n",
    "        # coordinate of the cat\n",
    "        self.x = 0\n",
    "        self.y = 1\n",
    "\n",
    "        # self time\n",
    "        self.t = 0\n",
    "\n",
    "        self.scale=16\n",
    "\n",
    "        self.to_draw = np.zeros((max_time+2, grid_size*self.scale, grid_size*self.scale, 3))\n",
    "\n",
    "\n",
    "    def draw(self,e):\n",
    "        skvideo.io.vwrite(os.path.join('videos',f'{str(e)}.mp4'), self.to_draw)\n",
    "\n",
    "    def get_frame(self,t):\n",
    "        b = np.zeros((self.grid_size,self.grid_size,3))+128\n",
    "        \n",
    "        # draw bonus and malus \n",
    "        b[self.board>0,0] = 256\n",
    "        b[self.board < 0, 2] = 256\n",
    "        \n",
    "        # draw rat position\n",
    "        b[self.x,self.y,:]=256\n",
    "        \n",
    "        # draw borders\n",
    "        b[-2:,:,:]=0\n",
    "        b[:,-2:,:]=0\n",
    "        b[:2,:,:]=0\n",
    "        b[:,:2,:]=0\n",
    "        \n",
    "        b =  cv2.resize(b, None, fx=self.scale, fy=self.scale, interpolation=cv2.INTER_NEAREST)\n",
    "\n",
    "        # frame at instant t\n",
    "        self.to_draw[t,:,:,:]=b\n",
    "\n",
    "\n",
    "    def act(self, action, train=False):\n",
    "        \"\"\"This function returns the new state, reward and decides if the\n",
    "        game ends.\"\"\"\n",
    "\n",
    "        self.get_frame(int(self.t))\n",
    "\n",
    "        self.position = np.zeros((self.grid_size, self.grid_size))\n",
    "\n",
    "        self.position[0:2,:]= -1\n",
    "        self.position[:,0:2] = -1\n",
    "        self.position[-2:, :] = -1\n",
    "        self.position[-2:, :] = -1\n",
    "\n",
    "        self.position[self.x, self.y] = 1\n",
    "        if action == 0:\n",
    "            if self.x == self.grid_size-3:\n",
    "                self.x = self.x-1\n",
    "            else:\n",
    "                self.x = self.x + 1\n",
    "        elif action == 1:\n",
    "            if self.x == 2:\n",
    "                self.x = self.x+1\n",
    "            else:\n",
    "                self.x = self.x-1\n",
    "        elif action == 2:\n",
    "            if self.y == self.grid_size - 3:\n",
    "                self.y = self.y - 1\n",
    "            else:\n",
    "                self.y = self.y + 1\n",
    "        elif action == 3:\n",
    "            if self.y == 2:\n",
    "                self.y = self.y + 1\n",
    "            else:\n",
    "                self.y = self.y - 1\n",
    "        else:\n",
    "            RuntimeError('Error: action not recognized')\n",
    "\n",
    "        self.t = self.t + 1\n",
    "        \n",
    "        reward = 0\n",
    "        if train:\n",
    "            reward = -self.malus_position[self.x, self.y]\n",
    "        self.malus_position[self.x, self.y] = 0.1\n",
    "        \n",
    "        reward = reward + self.board[self.x, self.y]\n",
    "        self.board[self.x, self.y] = 0\n",
    "        game_over = self.t > self.max_time\n",
    "        # 3 \"feature\" states instead of 2\n",
    "        state = np.concatenate((self.malus_position.reshape(self.grid_size, self.grid_size,1),\n",
    "                                        self.board.reshape(self.grid_size, self.grid_size,1),\n",
    "                                self.position.reshape(self.grid_size, self.grid_size,1)),axis=2)\n",
    "        # state: what is observed by the cat - 2 case vision of both the board bonus/malus and the borders \n",
    "        state = state[self.x-2:self.x+3,self.y-2:self.y+3,:]\n",
    "\n",
    "        return state, reward, game_over\n",
    "\n",
    "    def reset(self):\n",
    "        \"\"\"This function resets the game and returns the initial state\"\"\"\n",
    "\n",
    "        # random first position\n",
    "        self.x = np.random.randint(3, self.grid_size-3, size=1)[0]\n",
    "        self.y = np.random.randint(3, self.grid_size-3, size=1)[0]\n",
    "\n",
    "        # temperature gives the probability of generating bonus and malus on the board\n",
    "        bonus = 0.5*np.random.binomial(1,self.temperature,size=self.grid_size**2)\n",
    "        bonus = bonus.reshape(self.grid_size,self.grid_size)\n",
    "\n",
    "        malus = -1.0*np.random.binomial(1,self.temperature,size=self.grid_size**2)\n",
    "        malus = malus.reshape(self.grid_size, self.grid_size)\n",
    "\n",
    "        self.to_draw = np.zeros((self.max_time+2, self.grid_size*self.scale, self.grid_size*self.scale, 3))\n",
    "\n",
    "        # When both malus and bonus, bonus remains. For high temperature, the board is filled more and more with bonuses\n",
    "        malus[bonus>0]=0\n",
    "\n",
    "        self.board = bonus + malus\n",
    "\n",
    "        self.position = np.zeros((self.grid_size, self.grid_size))\n",
    "        self.position[0:2,:]= -1\n",
    "        self.position[:,0:2] = -1\n",
    "        self.position[-2:, :] = -1\n",
    "        self.position[-2:, :] = -1\n",
    "        \n",
    "        # initial position doesn't have malus or bonus\n",
    "        self.board[self.x,self.y] = 0\n",
    "        self.t = 0\n",
    "\n",
    "        self.malus_position = np.zeros((self.grid_size, self.grid_size))\n",
    "        state = np.concatenate((self.malus_position.reshape(self.grid_size, self.grid_size,1),\n",
    "                                        self.board.reshape(self.grid_size, self.grid_size,1),\n",
    "                                self.position.reshape(self.grid_size, self.grid_size,1)),axis=2)\n",
    "        \n",
    "        # state: what is observed by the rat\n",
    "        state = state[self.x - 2:self.x + 3, self.y - 2:self.y + 3, :]\n",
    "        return state\n",
    "    \n",
    "    \n",
    "\n",
    "\n",
    "\n"
   ]
  },
  {
   "cell_type": "code",
   "execution_count": 63,
   "metadata": {
    "hidden": true
   },
   "outputs": [
    {
     "name": "stdout",
     "output_type": "stream",
     "text": [
      "Epoch 000/101 | Loss 0.0122 | Win/lose count 7.5/31.0 (-23.5)\n",
      "Epoch 001/101 | Loss 0.0145 | Win/lose count 10.5/21.6 (-11.1)\n",
      "Epoch 002/101 | Loss 0.0656 | Win/lose count 14.5/25.0 (-10.5)\n",
      "Epoch 003/101 | Loss 0.0578 | Win/lose count 9.5/24.5 (-15.0)\n",
      "Epoch 004/101 | Loss 0.0043 | Win/lose count 16.0/29.6 (-13.6)\n",
      "Epoch 005/101 | Loss 0.0078 | Win/lose count 9.5/23.0 (-13.5)\n",
      "Epoch 006/101 | Loss 0.0071 | Win/lose count 8.5/25.8 (-17.3)\n",
      "Epoch 007/101 | Loss 0.0091 | Win/lose count 16.5/19.6 (-3.1)\n",
      "Epoch 008/101 | Loss 0.0086 | Win/lose count 14.5/25.4 (-10.9)\n",
      "Epoch 009/101 | Loss 0.0063 | Win/lose count 12.0/21.7 (-9.7)\n",
      "Epoch 010/101 | Loss 0.0060 | Win/lose count 14.5/24.8 (-10.3)\n",
      "Epoch 011/101 | Loss 0.0527 | Win/lose count 8.0/21.9 (-13.9)\n",
      "Epoch 012/101 | Loss 0.0080 | Win/lose count 14.0/19.5 (-5.5)\n",
      "Epoch 013/101 | Loss 0.0435 | Win/lose count 12.0/18.4 (-6.4)\n",
      "Epoch 014/101 | Loss 0.0068 | Win/lose count 16.0/28.1 (-12.1)\n",
      "Epoch 015/101 | Loss 0.0111 | Win/lose count 13.0/24.1 (-11.1)\n",
      "Epoch 016/101 | Loss 0.0372 | Win/lose count 17.5/20.1 (-2.6)\n",
      "Epoch 017/101 | Loss 0.0096 | Win/lose count 15.0/23.3 (-8.3)\n",
      "Epoch 018/101 | Loss 0.0058 | Win/lose count 14.0/19.8 (-5.8)\n",
      "Epoch 019/101 | Loss 0.0371 | Win/lose count 16.0/13.2 (2.8)\n",
      "Epoch 020/101 | Loss 0.0066 | Win/lose count 19.5/16.5 (3.0)\n",
      "Epoch 021/101 | Loss 0.0086 | Win/lose count 18.0/21.0 (-3.0)\n",
      "Epoch 022/101 | Loss 0.0085 | Win/lose count 19.5/23.1 (-3.6)\n",
      "Epoch 023/101 | Loss 0.0094 | Win/lose count 18.0/20.8 (-2.8)\n",
      "Epoch 024/101 | Loss 0.0111 | Win/lose count 25.0/15.1 (9.9)\n",
      "Epoch 025/101 | Loss 0.0053 | Win/lose count 23.5/16.0 (7.5)\n",
      "Epoch 026/101 | Loss 0.0059 | Win/lose count 18.0/21.9 (-3.9)\n",
      "Epoch 027/101 | Loss 0.0077 | Win/lose count 26.5/16.0 (10.5)\n",
      "Epoch 028/101 | Loss 0.0070 | Win/lose count 15.5/18.5 (-3.0)\n",
      "Epoch 029/101 | Loss 0.0053 | Win/lose count 17.0/20.9 (-3.9)\n",
      "Epoch 030/101 | Loss 0.0109 | Win/lose count 17.0/23.3 (-6.3)\n",
      "Epoch 031/101 | Loss 0.0104 | Win/lose count 28.0/15.7 (12.3)\n",
      "Epoch 032/101 | Loss 0.0104 | Win/lose count 24.5/20.7 (3.8)\n",
      "Epoch 033/101 | Loss 0.0057 | Win/lose count 25.0/14.6 (10.4)\n",
      "Epoch 034/101 | Loss 0.0103 | Win/lose count 19.0/15.9 (3.1)\n",
      "Epoch 035/101 | Loss 0.0115 | Win/lose count 10.5/19.1 (-8.6)\n",
      "Epoch 036/101 | Loss 0.0054 | Win/lose count 23.5/17.4 (6.1)\n",
      "Epoch 037/101 | Loss 0.0395 | Win/lose count 22.0/17.7 (4.3)\n",
      "Epoch 038/101 | Loss 0.0052 | Win/lose count 13.0/17.8 (-4.8)\n",
      "Epoch 039/101 | Loss 0.0202 | Win/lose count 18.0/14.7 (3.3)\n",
      "Epoch 040/101 | Loss 0.0053 | Win/lose count 20.5/18.8 (1.7)\n",
      "Epoch 041/101 | Loss 0.0087 | Win/lose count 24.0/15.6 (8.4)\n",
      "Epoch 042/101 | Loss 0.0051 | Win/lose count 19.5/20.5 (-1.0)\n",
      "Epoch 043/101 | Loss 0.0070 | Win/lose count 22.5/14.7 (7.8)\n",
      "Epoch 044/101 | Loss 0.0054 | Win/lose count 20.0/18.2 (1.8)\n",
      "Epoch 045/101 | Loss 0.0083 | Win/lose count 23.0/18.6 (4.4)\n",
      "Epoch 046/101 | Loss 0.0070 | Win/lose count 11.0/19.4 (-8.4)\n",
      "Epoch 047/101 | Loss 0.0049 | Win/lose count 21.5/13.6 (7.9)\n",
      "Epoch 048/101 | Loss 0.0085 | Win/lose count 22.0/15.9 (6.1)\n",
      "Epoch 049/101 | Loss 0.0052 | Win/lose count 20.5/17.6 (2.9)\n",
      "Epoch 050/101 | Loss 0.0063 | Win/lose count 21.5/16.2 (5.3)\n",
      "Epoch 051/101 | Loss 0.0028 | Win/lose count 28.0/13.7 (14.3)\n",
      "Epoch 052/101 | Loss 0.0068 | Win/lose count 25.5/14.2 (11.3)\n",
      "Epoch 053/101 | Loss 0.0114 | Win/lose count 26.0/11.5 (14.5)\n",
      "Epoch 054/101 | Loss 0.0771 | Win/lose count 26.0/11.7 (14.3)\n",
      "Epoch 055/101 | Loss 0.0126 | Win/lose count 16.5/16.7 (-0.2)\n",
      "Epoch 056/101 | Loss 0.0072 | Win/lose count 16.5/14.5 (2.0)\n",
      "Epoch 057/101 | Loss 0.0057 | Win/lose count 21.0/18.3 (2.7)\n",
      "Epoch 058/101 | Loss 0.0053 | Win/lose count 16.0/15.8 (0.2)\n",
      "Epoch 059/101 | Loss 0.0085 | Win/lose count 18.5/12.7 (5.8)\n",
      "Epoch 060/101 | Loss 0.0041 | Win/lose count 15.5/16.5 (-1.0)\n",
      "Epoch 061/101 | Loss 0.0068 | Win/lose count 15.0/13.2 (1.8)\n",
      "Epoch 062/101 | Loss 0.0091 | Win/lose count 20.5/14.9 (5.6)\n",
      "Epoch 063/101 | Loss 0.0202 | Win/lose count 17.5/14.5 (3.0)\n",
      "Epoch 064/101 | Loss 0.0436 | Win/lose count 19.5/16.8 (2.7)\n",
      "Epoch 065/101 | Loss 0.0084 | Win/lose count 27.5/14.9 (12.6)\n",
      "Epoch 066/101 | Loss 0.0345 | Win/lose count 27.0/11.2 (15.8)\n",
      "Epoch 067/101 | Loss 0.0209 | Win/lose count 17.5/19.6 (-2.1)\n",
      "Epoch 068/101 | Loss 0.0278 | Win/lose count 15.0/15.9 (-0.9)\n",
      "Epoch 069/101 | Loss 0.0109 | Win/lose count 22.5/14.5 (8.0)\n",
      "Epoch 070/101 | Loss 0.0178 | Win/lose count 29.5/10.8 (18.7)\n",
      "Epoch 071/101 | Loss 0.0121 | Win/lose count 21.5/15.6 (5.9)\n",
      "Epoch 072/101 | Loss 0.0223 | Win/lose count 18.5/17.5 (1.0)\n",
      "Epoch 073/101 | Loss 0.0171 | Win/lose count 15.5/15.1 (0.4)\n",
      "Epoch 074/101 | Loss 0.0132 | Win/lose count 16.0/15.4 (0.6)\n",
      "Epoch 075/101 | Loss 0.0459 | Win/lose count 15.0/15.6 (-0.6)\n",
      "Epoch 076/101 | Loss 0.0186 | Win/lose count 25.0/13.1 (11.9)\n",
      "Epoch 077/101 | Loss 0.0110 | Win/lose count 22.0/12.2 (9.8)\n",
      "Epoch 078/101 | Loss 0.0162 | Win/lose count 15.5/15.2 (0.3)\n",
      "Epoch 079/101 | Loss 0.0154 | Win/lose count 20.0/15.4 (4.6)\n",
      "Epoch 080/101 | Loss 0.0120 | Win/lose count 25.0/13.7 (11.3)\n",
      "Epoch 081/101 | Loss 0.0162 | Win/lose count 14.5/15.1 (-0.6)\n",
      "Epoch 082/101 | Loss 0.0118 | Win/lose count 21.0/15.2 (5.8)\n",
      "Epoch 083/101 | Loss 0.0285 | Win/lose count 16.0/12.5 (3.5)\n",
      "Epoch 084/101 | Loss 0.0118 | Win/lose count 28.5/11.4 (17.1)\n",
      "Epoch 085/101 | Loss 0.0255 | Win/lose count 15.5/16.6 (-1.1)\n",
      "Epoch 086/101 | Loss 0.0303 | Win/lose count 20.5/11.5 (9.0)\n",
      "Epoch 087/101 | Loss 0.0215 | Win/lose count 20.5/13.6 (6.9)\n",
      "Epoch 088/101 | Loss 0.0121 | Win/lose count 20.0/13.2 (6.8)\n",
      "Epoch 089/101 | Loss 0.0176 | Win/lose count 11.5/15.9 (-4.4)\n",
      "Epoch 090/101 | Loss 0.0128 | Win/lose count 24.0/10.0 (14.0)\n",
      "Epoch 091/101 | Loss 0.0120 | Win/lose count 21.5/14.2 (7.3)\n",
      "Epoch 092/101 | Loss 0.0095 | Win/lose count 17.5/12.7 (4.8)\n",
      "Epoch 093/101 | Loss 0.0095 | Win/lose count 12.0/18.4 (-6.4)\n",
      "Epoch 094/101 | Loss 0.0102 | Win/lose count 15.5/15.9 (-0.4)\n",
      "Epoch 095/101 | Loss 0.0149 | Win/lose count 21.0/12.8 (8.2)\n",
      "Epoch 096/101 | Loss 0.0239 | Win/lose count 21.5/10.7 (10.8)\n",
      "Epoch 097/101 | Loss 0.0087 | Win/lose count 20.0/12.8 (7.2)\n",
      "Epoch 098/101 | Loss 0.0132 | Win/lose count 24.5/9.8 (14.7)\n",
      "Epoch 099/101 | Loss 0.0272 | Win/lose count 14.5/13.4 (1.1)\n",
      "Epoch 100/101 | Loss 0.0451 | Win/lose count 22.0/14.1 (7.9)\n"
     ]
    }
   ],
   "source": [
    "# Training\n",
    "env = EnvironmentExploring(grid_size=size, max_time=T, temperature=0.3)\n",
    "agent = DQN_CNN(size, lr=.1, epsilon = 0.8, memory_size=2000, batch_size = 32,n_state=3)\n",
    "train_explore(agent, env, epochs_train, prefix='cnn_train_explore', decay_eps=0.03)\n",
    "\n",
    "# decay_eps taken as 0.03 such that after 100 iterations, eps is around 4%"
   ]
  },
  {
   "cell_type": "code",
   "execution_count": 66,
   "metadata": {
    "hidden": true
   },
   "outputs": [
    {
     "data": {
      "text/html": [
       "<video alt=\"test\" controls>\n",
       "                <source src=\"data:video/mp4;base64,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\" type=\"video/mp4\" />\n",
       "             </video>"
      ],
      "text/plain": [
       "<IPython.core.display.HTML object>"
      ]
     },
     "execution_count": 66,
     "metadata": {},
     "output_type": "execute_result"
    }
   ],
   "source": [
    "HTML(display_videos(f'videos/cnn_train_explore{epochs_train-1}.mp4'))"
   ]
  },
  {
   "cell_type": "code",
   "execution_count": 68,
   "metadata": {
    "hidden": true
   },
   "outputs": [
    {
     "name": "stdout",
     "output_type": "stream",
     "text": [
      "Win/lose count 16.5/2.0. Average score (14.5)\n",
      "Win/lose count 21.0/1.0. Average score (17.25)\n",
      "Win/lose count 23.0/3.0. Average score (18.17)\n",
      "Win/lose count 17.5/2.0. Average score (17.5)\n",
      "Win/lose count 21.0/1.0. Average score (18.0)\n",
      "Win/lose count 20.5/0. Average score (18.42)\n",
      "Win/lose count 24.5/1.0. Average score (19.14)\n",
      "Win/lose count 16.5/1.0. Average score (18.69)\n",
      "Win/lose count 14.0/3.0. Average score (17.83)\n",
      "Win/lose count 6.0/1.0. Average score (16.55)\n",
      "Win/lose count 19.0/2.0. Average score (16.59)\n",
      "Final score: 16.59090909090909\n"
     ]
    },
    {
     "data": {
      "text/plain": [
       "(16.59090909090909, -15.590909090909092)"
      ]
     },
     "execution_count": 68,
     "metadata": {},
     "output_type": "execute_result"
    }
   ],
   "source": [
    "# Evaluation\n",
    "test(agent,env,epochs_test,prefix='cnn_test_explore', verbose=True)\n"
   ]
  },
  {
   "cell_type": "code",
   "execution_count": 69,
   "metadata": {
    "hidden": true
   },
   "outputs": [
    {
     "data": {
      "text/html": [
       "<video alt=\"test\" controls>\n",
       "                <source src=\"data:video/mp4;base64,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\" type=\"video/mp4\" />\n",
       "             </video>"
      ],
      "text/plain": [
       "<IPython.core.display.HTML object>"
      ]
     },
     "execution_count": 69,
     "metadata": {},
     "output_type": "execute_result"
    }
   ],
   "source": [
    "HTML(display_videos(f'videos/cnn_test_explore{epochs_test-1}.mp4'))"
   ]
  },
  {
   "cell_type": "markdown",
   "metadata": {
    "hidden": true
   },
   "source": [
    "The results are much satisfying as score is doubled for temperature $0.3$\n",
    "\n",
    "| Temperature      | CNN - no explore | CNN - with explore     |\n",
    "| :---        |    :----:   |          ---: |\n",
    "| 0.3      | 7.6       | 16.5   |\n",
    "\n",
    "From the replay, we observe that the agent rarely chooses a cell he already went to.\n"
   ]
  },
  {
   "cell_type": "markdown",
   "metadata": {
    "heading_collapsed": true
   },
   "source": [
    "### Mimick\n",
    "***\n",
    "__BONUS question__ Use the expert DQN from the previous question to generate some winning games. Train a model that mimicks its behavior. Compare the performances."
   ]
  },
  {
   "cell_type": "code",
   "execution_count": 82,
   "metadata": {
    "hidden": true
   },
   "outputs": [],
   "source": [
    "def gen_dataset(agent, env, batchsize, threshold=0):\n",
    "    states = []\n",
    "    actions = []\n",
    "        \n",
    "    while len(states) < batchsize:\n",
    "        state = env.reset()\n",
    "        game_over = False\n",
    "\n",
    "        while not game_over:\n",
    "            action = agent.act(state, train=False)\n",
    "            prev_state = state\n",
    "            state, reward, game_over = env.act(action)\n",
    "            if len(states) > batchsize:\n",
    "                break\n",
    "            elif reward > threshold: \n",
    "                states.append(prev_state)\n",
    "                actions.append(action)\n",
    "    actions=pd.get_dummies(actions).values\n",
    "    states=np.array(states)\n",
    "    return states, actions"
   ]
  },
  {
   "cell_type": "code",
   "execution_count": 91,
   "metadata": {
    "hidden": true
   },
   "outputs": [],
   "source": [
    "data_train_x, data_train_y = gen_dataset(agent, env, 2000)\n",
    "data_val_x, data_val_y = gen_dataset(agent, env, 200)\n",
    "data_test_x, data_test_y = gen_dataset(agent, env, 200)"
   ]
  },
  {
   "cell_type": "code",
   "execution_count": null,
   "metadata": {
    "hidden": true
   },
   "outputs": [],
   "source": [
    "def test_mimmick(agent,env,epochs,prefix='', verbose=False):\n",
    "    # Number of won games\n",
    "    score = 0\n",
    "    board_potential = 0\n",
    "        \n",
    "    for e in range(epochs):\n",
    "        game_over = False\n",
    "        win, lose = 0,0\n",
    "        state = env.reset()\n",
    "        board_potential += np.sum(env.board[1:-1,1:-1])\n",
    "        while not game_over:\n",
    "            action = agent.predict(np.expand_dims(state, axis=0))[0].argmax()\n",
    "            prev_state = state\n",
    "            state, reward, game_over = env.act(action)\n",
    "            \n",
    "            if reward > 0:\n",
    "                win = win+reward\n",
    "            if reward < 0:\n",
    "                lose = lose-reward\n",
    "            \n",
    "        if e==(epochs)-1:\n",
    "            env.draw(prefix+str(e))\n",
    "\n",
    "        score = score + win-lose\n",
    "        if verbose:\n",
    "            print(\"Win/lose count {}/{}. Average score ({})\"\n",
    "                  .format(win, lose, np.round(score/(1+e),2)))\n",
    "    board_potential = board_potential / epochs\n",
    "    score = score/epochs\n",
    "    if verbose:\n",
    "        print('Final score: '+str(score))\n",
    "    return score, board_potential"
   ]
  },
  {
   "cell_type": "code",
   "execution_count": 108,
   "metadata": {
    "hidden": true
   },
   "outputs": [],
   "source": [
    "## FC-NN\n",
    "\n",
    "model = Sequential()\n",
    "model.add(Flatten(input_shape=(5,5,3,)))\n",
    "model.add(Dense(64, activation='relu'))\n",
    "model.add(Dense(32, activation='relu'))\n",
    "# We use softmax this time to output proability\n",
    "model.add(Dense(4, activation='softmax'))\n",
    "        \n",
    "model.compile(sgd(lr=0.95, decay=1e-4, momentum=0.0), loss='categorical_crossentropy')\n"
   ]
  },
  {
   "cell_type": "code",
   "execution_count": 109,
   "metadata": {
    "hidden": true
   },
   "outputs": [
    {
     "data": {
      "text/plain": [
       "<keras.callbacks.History at 0x7fe28c36fba8>"
      ]
     },
     "execution_count": 109,
     "metadata": {},
     "output_type": "execute_result"
    }
   ],
   "source": [
    "model.fit(data_train_x, data_train_y, batch_size=32, validation_data=(data_val_x, data_val_y), epochs=200, verbose=False)"
   ]
  },
  {
   "cell_type": "code",
   "execution_count": 111,
   "metadata": {
    "hidden": true
   },
   "outputs": [
    {
     "data": {
      "text/plain": [
       "(8.5, -13.12)"
      ]
     },
     "execution_count": 111,
     "metadata": {},
     "output_type": "execute_result"
    }
   ],
   "source": [
    "test_mimmick(model, env, epochs_test, prefix=\"mimmick_test_fc\", verbose=False)\n"
   ]
  },
  {
   "cell_type": "code",
   "execution_count": 112,
   "metadata": {
    "hidden": true
   },
   "outputs": [
    {
     "data": {
      "text/html": [
       "<video alt=\"test\" controls>\n",
       "                <source src=\"data:video/mp4;base64,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\" type=\"video/mp4\" />\n",
       "             </video>"
      ],
      "text/plain": [
       "<IPython.core.display.HTML object>"
      ]
     },
     "execution_count": 112,
     "metadata": {},
     "output_type": "execute_result"
    }
   ],
   "source": [
    "HTML(display_videos(f'videos/mimmick_test_fc{epochs_test-1}.mp4'))"
   ]
  },
  {
   "cell_type": "code",
   "execution_count": 106,
   "metadata": {
    "hidden": true
   },
   "outputs": [
    {
     "data": {
      "text/plain": [
       "<keras.callbacks.History at 0x7fe28c3165c0>"
      ]
     },
     "execution_count": 106,
     "metadata": {},
     "output_type": "execute_result"
    }
   ],
   "source": [
    "## CNN-NN\n",
    "\n",
    "\n",
    "model = Sequential()\n",
    "\n",
    "model.add(Conv2D(64, (2,2), input_shape = (5, 5, 3,), activation='relu'))\n",
    "model.add(Conv2D(32, (2,2), activation='relu'))\n",
    "model.add(Flatten())\n",
    "model.add(Dense(4, activation='softmax'))\n",
    "\n",
    "model.compile(sgd(lr=0.1, decay=1e-4, momentum=0.0), \"mse\")\n",
    "# model.compile(sgd(lr=0.1, decay=1e-4, momentum=0.0), loss='categorical_crossentropy')\n",
    "\n",
    "\n",
    "\n",
    "model.fit(data_train_x, data_train_y, batch_size=32, validation_data=(data_val_x, data_val_y), epochs=200, verbose=False)"
   ]
  },
  {
   "cell_type": "code",
   "execution_count": 107,
   "metadata": {
    "hidden": true
   },
   "outputs": [
    {
     "name": "stdout",
     "output_type": "stream",
     "text": [
      "9.32\n"
     ]
    },
    {
     "data": {
      "text/html": [
       "<video alt=\"test\" controls>\n",
       "                <source src=\"data:video/mp4;base64,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\" type=\"video/mp4\" />\n",
       "             </video>"
      ],
      "text/plain": [
       "<IPython.core.display.HTML object>"
      ]
     },
     "execution_count": 107,
     "metadata": {},
     "output_type": "execute_result"
    }
   ],
   "source": [
    "epochs_test=25\n",
    "print(test_mimmick(model, env, epochs_test, prefix=\"mimmick_test_cnn\", verbose=False)[0])\n",
    "HTML(display_videos(f'videos/mimmick_test_cnn{epochs_test-1}.mp4'))"
   ]
  },
  {
   "cell_type": "markdown",
   "metadata": {
    "hidden": true
   },
   "source": [
    "For mimmick both models, score has decrease compared to the DQN Master one. "
   ]
  },
  {
   "cell_type": "markdown",
   "metadata": {
    "hidden": true
   },
   "source": [
    "***"
   ]
  }
 ],
 "metadata": {
  "kernelspec": {
   "display_name": "Python 3",
   "language": "python",
   "name": "python3"
  },
  "language_info": {
   "codemirror_mode": {
    "name": "ipython",
    "version": 3
   },
   "file_extension": ".py",
   "mimetype": "text/x-python",
   "name": "python",
   "nbconvert_exporter": "python",
   "pygments_lexer": "ipython3",
   "version": "3.6.8"
  },
  "varInspector": {
   "cols": {
    "lenName": 16,
    "lenType": 16,
    "lenVar": 40
   },
   "kernels_config": {
    "python": {
     "delete_cmd_postfix": "",
     "delete_cmd_prefix": "del ",
     "library": "var_list.py",
     "varRefreshCmd": "print(var_dic_list())"
    },
    "r": {
     "delete_cmd_postfix": ") ",
     "delete_cmd_prefix": "rm(",
     "library": "var_list.r",
     "varRefreshCmd": "cat(var_dic_list()) "
    }
   },
   "types_to_exclude": [
    "module",
    "function",
    "builtin_function_or_method",
    "instance",
    "_Feature"
   ],
   "window_display": false
  }
 },
 "nbformat": 4,
 "nbformat_minor": 2
}
